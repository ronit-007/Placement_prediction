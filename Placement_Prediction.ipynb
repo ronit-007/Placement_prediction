{
 "cells": [
  {
   "cell_type": "markdown",
   "id": "a8c1575e",
   "metadata": {},
   "source": [
    "# Placement Prediction"
   ]
  },
  {
   "cell_type": "markdown",
   "id": "51634734",
   "metadata": {},
   "source": [
    "**Columns**:\n",
    "1. Sl_no – serial number\n",
    "2. Gender – gender of candidate\n",
    "3. Ssc_p – Secondary education percentage(10th)\n",
    "4. Ssc_b – Board of SSC (central/others)\n",
    "5. Hsc_p – Higher secondary education percentage(12th)\n",
    "6. Hsc_b - Board of HSC (central/others)\n",
    "7. Hsc_s – Specialisation in HSC (Arts, Commerce, Science)\n",
    "8. Degree_p – Degree percentage.\n",
    "9. Degree_t – Degree type (Commerce & Management, Science & Technology, Others)\n",
    "10. Workex – Work experience\n",
    "11. Etest_p – Employee test percentage (Conducted by college)\n",
    "12. Specialisation – Post Graduation MBA specialisation (Mkt & Fin, Mkt & Hr)\n",
    "13. Mba_p – MBA percentage\n",
    "14. Status – Status of placement (Placed/Not placed)\n",
    "15. Salary – Salary offered by company to candidate\n",
    "\n",
    "\n",
    "**To Find out**:\n",
    "\n",
    "1. Which factor influenced in candidate getting placed?\n",
    "2. Which degree is in demand by corporate?\n",
    "3. Create a classification model to predict who will be placed and who will not.\n",
    "4. Can you predict the salary? Create a model for it."
   ]
  },
  {
   "cell_type": "code",
   "execution_count": 1,
   "id": "662d7ad8",
   "metadata": {},
   "outputs": [],
   "source": [
    "# Importing Libraries\n",
    "import pandas as pd\n",
    "import numpy as np\n",
    "import matplotlib.pyplot as plt\n",
    "%matplotlib inline\n",
    "import seaborn as sns\n",
    "import warnings\n",
    "warnings.filterwarnings(\"ignore\")"
   ]
  },
  {
   "cell_type": "code",
   "execution_count": 2,
   "id": "5fc452b8",
   "metadata": {},
   "outputs": [],
   "source": [
    "placement_data = pd.read_csv(\"Placement_Data.csv\")\n",
    "placement_data.drop(\"sl_no\",axis = 1,inplace = True)"
   ]
  },
  {
   "cell_type": "code",
   "execution_count": 3,
   "id": "12d655ac",
   "metadata": {},
   "outputs": [
    {
     "data": {
      "text/html": [
       "<div>\n",
       "<style scoped>\n",
       "    .dataframe tbody tr th:only-of-type {\n",
       "        vertical-align: middle;\n",
       "    }\n",
       "\n",
       "    .dataframe tbody tr th {\n",
       "        vertical-align: top;\n",
       "    }\n",
       "\n",
       "    .dataframe thead th {\n",
       "        text-align: right;\n",
       "    }\n",
       "</style>\n",
       "<table border=\"1\" class=\"dataframe\">\n",
       "  <thead>\n",
       "    <tr style=\"text-align: right;\">\n",
       "      <th></th>\n",
       "      <th>gender</th>\n",
       "      <th>ssc_p</th>\n",
       "      <th>ssc_b</th>\n",
       "      <th>hsc_p</th>\n",
       "      <th>hsc_b</th>\n",
       "      <th>hsc_s</th>\n",
       "      <th>degree_p</th>\n",
       "      <th>degree_t</th>\n",
       "      <th>workex</th>\n",
       "      <th>etest_p</th>\n",
       "      <th>specialisation</th>\n",
       "      <th>mba_p</th>\n",
       "      <th>status</th>\n",
       "      <th>salary</th>\n",
       "    </tr>\n",
       "  </thead>\n",
       "  <tbody>\n",
       "    <tr>\n",
       "      <th>0</th>\n",
       "      <td>M</td>\n",
       "      <td>67.00</td>\n",
       "      <td>Others</td>\n",
       "      <td>91.00</td>\n",
       "      <td>Others</td>\n",
       "      <td>Commerce</td>\n",
       "      <td>58.00</td>\n",
       "      <td>Sci&amp;Tech</td>\n",
       "      <td>No</td>\n",
       "      <td>55.0</td>\n",
       "      <td>Mkt&amp;HR</td>\n",
       "      <td>58.80</td>\n",
       "      <td>Placed</td>\n",
       "      <td>270000.0</td>\n",
       "    </tr>\n",
       "    <tr>\n",
       "      <th>1</th>\n",
       "      <td>M</td>\n",
       "      <td>79.33</td>\n",
       "      <td>Central</td>\n",
       "      <td>78.33</td>\n",
       "      <td>Others</td>\n",
       "      <td>Science</td>\n",
       "      <td>77.48</td>\n",
       "      <td>Sci&amp;Tech</td>\n",
       "      <td>Yes</td>\n",
       "      <td>86.5</td>\n",
       "      <td>Mkt&amp;Fin</td>\n",
       "      <td>66.28</td>\n",
       "      <td>Placed</td>\n",
       "      <td>200000.0</td>\n",
       "    </tr>\n",
       "    <tr>\n",
       "      <th>2</th>\n",
       "      <td>M</td>\n",
       "      <td>65.00</td>\n",
       "      <td>Central</td>\n",
       "      <td>68.00</td>\n",
       "      <td>Central</td>\n",
       "      <td>Arts</td>\n",
       "      <td>64.00</td>\n",
       "      <td>Comm&amp;Mgmt</td>\n",
       "      <td>No</td>\n",
       "      <td>75.0</td>\n",
       "      <td>Mkt&amp;Fin</td>\n",
       "      <td>57.80</td>\n",
       "      <td>Placed</td>\n",
       "      <td>250000.0</td>\n",
       "    </tr>\n",
       "    <tr>\n",
       "      <th>3</th>\n",
       "      <td>M</td>\n",
       "      <td>56.00</td>\n",
       "      <td>Central</td>\n",
       "      <td>52.00</td>\n",
       "      <td>Central</td>\n",
       "      <td>Science</td>\n",
       "      <td>52.00</td>\n",
       "      <td>Sci&amp;Tech</td>\n",
       "      <td>No</td>\n",
       "      <td>66.0</td>\n",
       "      <td>Mkt&amp;HR</td>\n",
       "      <td>59.43</td>\n",
       "      <td>Not Placed</td>\n",
       "      <td>NaN</td>\n",
       "    </tr>\n",
       "    <tr>\n",
       "      <th>4</th>\n",
       "      <td>M</td>\n",
       "      <td>85.80</td>\n",
       "      <td>Central</td>\n",
       "      <td>73.60</td>\n",
       "      <td>Central</td>\n",
       "      <td>Commerce</td>\n",
       "      <td>73.30</td>\n",
       "      <td>Comm&amp;Mgmt</td>\n",
       "      <td>No</td>\n",
       "      <td>96.8</td>\n",
       "      <td>Mkt&amp;Fin</td>\n",
       "      <td>55.50</td>\n",
       "      <td>Placed</td>\n",
       "      <td>425000.0</td>\n",
       "    </tr>\n",
       "  </tbody>\n",
       "</table>\n",
       "</div>"
      ],
      "text/plain": [
       "  gender  ssc_p    ssc_b  hsc_p    hsc_b     hsc_s  degree_p   degree_t  \\\n",
       "0      M  67.00   Others  91.00   Others  Commerce     58.00   Sci&Tech   \n",
       "1      M  79.33  Central  78.33   Others   Science     77.48   Sci&Tech   \n",
       "2      M  65.00  Central  68.00  Central      Arts     64.00  Comm&Mgmt   \n",
       "3      M  56.00  Central  52.00  Central   Science     52.00   Sci&Tech   \n",
       "4      M  85.80  Central  73.60  Central  Commerce     73.30  Comm&Mgmt   \n",
       "\n",
       "  workex  etest_p specialisation  mba_p      status    salary  \n",
       "0     No     55.0         Mkt&HR  58.80      Placed  270000.0  \n",
       "1    Yes     86.5        Mkt&Fin  66.28      Placed  200000.0  \n",
       "2     No     75.0        Mkt&Fin  57.80      Placed  250000.0  \n",
       "3     No     66.0         Mkt&HR  59.43  Not Placed       NaN  \n",
       "4     No     96.8        Mkt&Fin  55.50      Placed  425000.0  "
      ]
     },
     "execution_count": 3,
     "metadata": {},
     "output_type": "execute_result"
    }
   ],
   "source": [
    "placement_data.head()"
   ]
  },
  {
   "cell_type": "code",
   "execution_count": 4,
   "id": "0bcdb9d0",
   "metadata": {},
   "outputs": [
    {
     "data": {
      "text/html": [
       "<div>\n",
       "<style scoped>\n",
       "    .dataframe tbody tr th:only-of-type {\n",
       "        vertical-align: middle;\n",
       "    }\n",
       "\n",
       "    .dataframe tbody tr th {\n",
       "        vertical-align: top;\n",
       "    }\n",
       "\n",
       "    .dataframe thead th {\n",
       "        text-align: right;\n",
       "    }\n",
       "</style>\n",
       "<table border=\"1\" class=\"dataframe\">\n",
       "  <thead>\n",
       "    <tr style=\"text-align: right;\">\n",
       "      <th></th>\n",
       "      <th>gender</th>\n",
       "      <th>ssc_p</th>\n",
       "      <th>ssc_b</th>\n",
       "      <th>hsc_p</th>\n",
       "      <th>hsc_b</th>\n",
       "      <th>hsc_s</th>\n",
       "      <th>degree_p</th>\n",
       "      <th>degree_t</th>\n",
       "      <th>workex</th>\n",
       "      <th>etest_p</th>\n",
       "      <th>specialisation</th>\n",
       "      <th>mba_p</th>\n",
       "      <th>status</th>\n",
       "      <th>salary</th>\n",
       "    </tr>\n",
       "  </thead>\n",
       "  <tbody>\n",
       "    <tr>\n",
       "      <th>0</th>\n",
       "      <td>M</td>\n",
       "      <td>67.00</td>\n",
       "      <td>Others</td>\n",
       "      <td>91.00</td>\n",
       "      <td>Others</td>\n",
       "      <td>Commerce</td>\n",
       "      <td>58.00</td>\n",
       "      <td>Sci&amp;Tech</td>\n",
       "      <td>No</td>\n",
       "      <td>55.00</td>\n",
       "      <td>Mkt&amp;HR</td>\n",
       "      <td>58.80</td>\n",
       "      <td>Placed</td>\n",
       "      <td>270000.0</td>\n",
       "    </tr>\n",
       "    <tr>\n",
       "      <th>1</th>\n",
       "      <td>M</td>\n",
       "      <td>79.33</td>\n",
       "      <td>Central</td>\n",
       "      <td>78.33</td>\n",
       "      <td>Others</td>\n",
       "      <td>Science</td>\n",
       "      <td>77.48</td>\n",
       "      <td>Sci&amp;Tech</td>\n",
       "      <td>Yes</td>\n",
       "      <td>86.50</td>\n",
       "      <td>Mkt&amp;Fin</td>\n",
       "      <td>66.28</td>\n",
       "      <td>Placed</td>\n",
       "      <td>200000.0</td>\n",
       "    </tr>\n",
       "    <tr>\n",
       "      <th>2</th>\n",
       "      <td>M</td>\n",
       "      <td>65.00</td>\n",
       "      <td>Central</td>\n",
       "      <td>68.00</td>\n",
       "      <td>Central</td>\n",
       "      <td>Arts</td>\n",
       "      <td>64.00</td>\n",
       "      <td>Comm&amp;Mgmt</td>\n",
       "      <td>No</td>\n",
       "      <td>75.00</td>\n",
       "      <td>Mkt&amp;Fin</td>\n",
       "      <td>57.80</td>\n",
       "      <td>Placed</td>\n",
       "      <td>250000.0</td>\n",
       "    </tr>\n",
       "    <tr>\n",
       "      <th>4</th>\n",
       "      <td>M</td>\n",
       "      <td>85.80</td>\n",
       "      <td>Central</td>\n",
       "      <td>73.60</td>\n",
       "      <td>Central</td>\n",
       "      <td>Commerce</td>\n",
       "      <td>73.30</td>\n",
       "      <td>Comm&amp;Mgmt</td>\n",
       "      <td>No</td>\n",
       "      <td>96.80</td>\n",
       "      <td>Mkt&amp;Fin</td>\n",
       "      <td>55.50</td>\n",
       "      <td>Placed</td>\n",
       "      <td>425000.0</td>\n",
       "    </tr>\n",
       "    <tr>\n",
       "      <th>7</th>\n",
       "      <td>M</td>\n",
       "      <td>82.00</td>\n",
       "      <td>Central</td>\n",
       "      <td>64.00</td>\n",
       "      <td>Central</td>\n",
       "      <td>Science</td>\n",
       "      <td>66.00</td>\n",
       "      <td>Sci&amp;Tech</td>\n",
       "      <td>Yes</td>\n",
       "      <td>67.00</td>\n",
       "      <td>Mkt&amp;Fin</td>\n",
       "      <td>62.14</td>\n",
       "      <td>Placed</td>\n",
       "      <td>252000.0</td>\n",
       "    </tr>\n",
       "    <tr>\n",
       "      <th>8</th>\n",
       "      <td>M</td>\n",
       "      <td>73.00</td>\n",
       "      <td>Central</td>\n",
       "      <td>79.00</td>\n",
       "      <td>Central</td>\n",
       "      <td>Commerce</td>\n",
       "      <td>72.00</td>\n",
       "      <td>Comm&amp;Mgmt</td>\n",
       "      <td>No</td>\n",
       "      <td>91.34</td>\n",
       "      <td>Mkt&amp;Fin</td>\n",
       "      <td>61.29</td>\n",
       "      <td>Placed</td>\n",
       "      <td>231000.0</td>\n",
       "    </tr>\n",
       "    <tr>\n",
       "      <th>10</th>\n",
       "      <td>M</td>\n",
       "      <td>58.00</td>\n",
       "      <td>Central</td>\n",
       "      <td>61.00</td>\n",
       "      <td>Central</td>\n",
       "      <td>Commerce</td>\n",
       "      <td>60.00</td>\n",
       "      <td>Comm&amp;Mgmt</td>\n",
       "      <td>Yes</td>\n",
       "      <td>62.00</td>\n",
       "      <td>Mkt&amp;HR</td>\n",
       "      <td>60.85</td>\n",
       "      <td>Placed</td>\n",
       "      <td>260000.0</td>\n",
       "    </tr>\n",
       "    <tr>\n",
       "      <th>11</th>\n",
       "      <td>M</td>\n",
       "      <td>69.60</td>\n",
       "      <td>Central</td>\n",
       "      <td>68.40</td>\n",
       "      <td>Central</td>\n",
       "      <td>Commerce</td>\n",
       "      <td>78.30</td>\n",
       "      <td>Comm&amp;Mgmt</td>\n",
       "      <td>Yes</td>\n",
       "      <td>60.00</td>\n",
       "      <td>Mkt&amp;Fin</td>\n",
       "      <td>63.70</td>\n",
       "      <td>Placed</td>\n",
       "      <td>250000.0</td>\n",
       "    </tr>\n",
       "    <tr>\n",
       "      <th>13</th>\n",
       "      <td>F</td>\n",
       "      <td>77.00</td>\n",
       "      <td>Central</td>\n",
       "      <td>87.00</td>\n",
       "      <td>Central</td>\n",
       "      <td>Commerce</td>\n",
       "      <td>59.00</td>\n",
       "      <td>Comm&amp;Mgmt</td>\n",
       "      <td>No</td>\n",
       "      <td>68.00</td>\n",
       "      <td>Mkt&amp;Fin</td>\n",
       "      <td>68.63</td>\n",
       "      <td>Placed</td>\n",
       "      <td>218000.0</td>\n",
       "    </tr>\n",
       "    <tr>\n",
       "      <th>15</th>\n",
       "      <td>F</td>\n",
       "      <td>65.00</td>\n",
       "      <td>Central</td>\n",
       "      <td>75.00</td>\n",
       "      <td>Central</td>\n",
       "      <td>Commerce</td>\n",
       "      <td>69.00</td>\n",
       "      <td>Comm&amp;Mgmt</td>\n",
       "      <td>Yes</td>\n",
       "      <td>72.00</td>\n",
       "      <td>Mkt&amp;Fin</td>\n",
       "      <td>64.66</td>\n",
       "      <td>Placed</td>\n",
       "      <td>200000.0</td>\n",
       "    </tr>\n",
       "  </tbody>\n",
       "</table>\n",
       "</div>"
      ],
      "text/plain": [
       "   gender  ssc_p    ssc_b  hsc_p    hsc_b     hsc_s  degree_p   degree_t  \\\n",
       "0       M  67.00   Others  91.00   Others  Commerce     58.00   Sci&Tech   \n",
       "1       M  79.33  Central  78.33   Others   Science     77.48   Sci&Tech   \n",
       "2       M  65.00  Central  68.00  Central      Arts     64.00  Comm&Mgmt   \n",
       "4       M  85.80  Central  73.60  Central  Commerce     73.30  Comm&Mgmt   \n",
       "7       M  82.00  Central  64.00  Central   Science     66.00   Sci&Tech   \n",
       "8       M  73.00  Central  79.00  Central  Commerce     72.00  Comm&Mgmt   \n",
       "10      M  58.00  Central  61.00  Central  Commerce     60.00  Comm&Mgmt   \n",
       "11      M  69.60  Central  68.40  Central  Commerce     78.30  Comm&Mgmt   \n",
       "13      F  77.00  Central  87.00  Central  Commerce     59.00  Comm&Mgmt   \n",
       "15      F  65.00  Central  75.00  Central  Commerce     69.00  Comm&Mgmt   \n",
       "\n",
       "   workex  etest_p specialisation  mba_p  status    salary  \n",
       "0      No    55.00         Mkt&HR  58.80  Placed  270000.0  \n",
       "1     Yes    86.50        Mkt&Fin  66.28  Placed  200000.0  \n",
       "2      No    75.00        Mkt&Fin  57.80  Placed  250000.0  \n",
       "4      No    96.80        Mkt&Fin  55.50  Placed  425000.0  \n",
       "7     Yes    67.00        Mkt&Fin  62.14  Placed  252000.0  \n",
       "8      No    91.34        Mkt&Fin  61.29  Placed  231000.0  \n",
       "10    Yes    62.00         Mkt&HR  60.85  Placed  260000.0  \n",
       "11    Yes    60.00        Mkt&Fin  63.70  Placed  250000.0  \n",
       "13     No    68.00        Mkt&Fin  68.63  Placed  218000.0  \n",
       "15    Yes    72.00        Mkt&Fin  64.66  Placed  200000.0  "
      ]
     },
     "execution_count": 4,
     "metadata": {},
     "output_type": "execute_result"
    }
   ],
   "source": [
    "placement_data[placement_data[\"status\"]==\"Placed\"][:10]"
   ]
  },
  {
   "cell_type": "code",
   "execution_count": 5,
   "id": "4236ec55",
   "metadata": {},
   "outputs": [
    {
     "data": {
      "text/html": [
       "<div>\n",
       "<style scoped>\n",
       "    .dataframe tbody tr th:only-of-type {\n",
       "        vertical-align: middle;\n",
       "    }\n",
       "\n",
       "    .dataframe tbody tr th {\n",
       "        vertical-align: top;\n",
       "    }\n",
       "\n",
       "    .dataframe thead th {\n",
       "        text-align: right;\n",
       "    }\n",
       "</style>\n",
       "<table border=\"1\" class=\"dataframe\">\n",
       "  <thead>\n",
       "    <tr style=\"text-align: right;\">\n",
       "      <th></th>\n",
       "      <th>gender</th>\n",
       "      <th>ssc_p</th>\n",
       "      <th>ssc_b</th>\n",
       "      <th>hsc_p</th>\n",
       "      <th>hsc_b</th>\n",
       "      <th>hsc_s</th>\n",
       "      <th>degree_p</th>\n",
       "      <th>degree_t</th>\n",
       "      <th>workex</th>\n",
       "      <th>etest_p</th>\n",
       "      <th>specialisation</th>\n",
       "      <th>mba_p</th>\n",
       "      <th>status</th>\n",
       "      <th>salary</th>\n",
       "    </tr>\n",
       "  </thead>\n",
       "  <tbody>\n",
       "    <tr>\n",
       "      <th>3</th>\n",
       "      <td>M</td>\n",
       "      <td>56.00</td>\n",
       "      <td>Central</td>\n",
       "      <td>52.0</td>\n",
       "      <td>Central</td>\n",
       "      <td>Science</td>\n",
       "      <td>52.00</td>\n",
       "      <td>Sci&amp;Tech</td>\n",
       "      <td>No</td>\n",
       "      <td>66.00</td>\n",
       "      <td>Mkt&amp;HR</td>\n",
       "      <td>59.43</td>\n",
       "      <td>Not Placed</td>\n",
       "      <td>NaN</td>\n",
       "    </tr>\n",
       "    <tr>\n",
       "      <th>5</th>\n",
       "      <td>M</td>\n",
       "      <td>55.00</td>\n",
       "      <td>Others</td>\n",
       "      <td>49.8</td>\n",
       "      <td>Others</td>\n",
       "      <td>Science</td>\n",
       "      <td>67.25</td>\n",
       "      <td>Sci&amp;Tech</td>\n",
       "      <td>Yes</td>\n",
       "      <td>55.00</td>\n",
       "      <td>Mkt&amp;Fin</td>\n",
       "      <td>51.58</td>\n",
       "      <td>Not Placed</td>\n",
       "      <td>NaN</td>\n",
       "    </tr>\n",
       "    <tr>\n",
       "      <th>6</th>\n",
       "      <td>F</td>\n",
       "      <td>46.00</td>\n",
       "      <td>Others</td>\n",
       "      <td>49.2</td>\n",
       "      <td>Others</td>\n",
       "      <td>Commerce</td>\n",
       "      <td>79.00</td>\n",
       "      <td>Comm&amp;Mgmt</td>\n",
       "      <td>No</td>\n",
       "      <td>74.28</td>\n",
       "      <td>Mkt&amp;Fin</td>\n",
       "      <td>53.29</td>\n",
       "      <td>Not Placed</td>\n",
       "      <td>NaN</td>\n",
       "    </tr>\n",
       "    <tr>\n",
       "      <th>9</th>\n",
       "      <td>M</td>\n",
       "      <td>58.00</td>\n",
       "      <td>Central</td>\n",
       "      <td>70.0</td>\n",
       "      <td>Central</td>\n",
       "      <td>Commerce</td>\n",
       "      <td>61.00</td>\n",
       "      <td>Comm&amp;Mgmt</td>\n",
       "      <td>No</td>\n",
       "      <td>54.00</td>\n",
       "      <td>Mkt&amp;Fin</td>\n",
       "      <td>52.21</td>\n",
       "      <td>Not Placed</td>\n",
       "      <td>NaN</td>\n",
       "    </tr>\n",
       "    <tr>\n",
       "      <th>12</th>\n",
       "      <td>F</td>\n",
       "      <td>47.00</td>\n",
       "      <td>Central</td>\n",
       "      <td>55.0</td>\n",
       "      <td>Others</td>\n",
       "      <td>Science</td>\n",
       "      <td>65.00</td>\n",
       "      <td>Comm&amp;Mgmt</td>\n",
       "      <td>No</td>\n",
       "      <td>62.00</td>\n",
       "      <td>Mkt&amp;HR</td>\n",
       "      <td>65.04</td>\n",
       "      <td>Not Placed</td>\n",
       "      <td>NaN</td>\n",
       "    </tr>\n",
       "    <tr>\n",
       "      <th>14</th>\n",
       "      <td>M</td>\n",
       "      <td>62.00</td>\n",
       "      <td>Central</td>\n",
       "      <td>47.0</td>\n",
       "      <td>Central</td>\n",
       "      <td>Commerce</td>\n",
       "      <td>50.00</td>\n",
       "      <td>Comm&amp;Mgmt</td>\n",
       "      <td>No</td>\n",
       "      <td>76.00</td>\n",
       "      <td>Mkt&amp;HR</td>\n",
       "      <td>54.96</td>\n",
       "      <td>Not Placed</td>\n",
       "      <td>NaN</td>\n",
       "    </tr>\n",
       "    <tr>\n",
       "      <th>17</th>\n",
       "      <td>F</td>\n",
       "      <td>55.00</td>\n",
       "      <td>Central</td>\n",
       "      <td>67.0</td>\n",
       "      <td>Central</td>\n",
       "      <td>Commerce</td>\n",
       "      <td>64.00</td>\n",
       "      <td>Comm&amp;Mgmt</td>\n",
       "      <td>No</td>\n",
       "      <td>60.00</td>\n",
       "      <td>Mkt&amp;Fin</td>\n",
       "      <td>67.28</td>\n",
       "      <td>Not Placed</td>\n",
       "      <td>NaN</td>\n",
       "    </tr>\n",
       "    <tr>\n",
       "      <th>18</th>\n",
       "      <td>F</td>\n",
       "      <td>63.00</td>\n",
       "      <td>Central</td>\n",
       "      <td>66.0</td>\n",
       "      <td>Central</td>\n",
       "      <td>Commerce</td>\n",
       "      <td>64.00</td>\n",
       "      <td>Comm&amp;Mgmt</td>\n",
       "      <td>No</td>\n",
       "      <td>68.00</td>\n",
       "      <td>Mkt&amp;HR</td>\n",
       "      <td>64.08</td>\n",
       "      <td>Not Placed</td>\n",
       "      <td>NaN</td>\n",
       "    </tr>\n",
       "    <tr>\n",
       "      <th>25</th>\n",
       "      <td>F</td>\n",
       "      <td>52.58</td>\n",
       "      <td>Others</td>\n",
       "      <td>54.6</td>\n",
       "      <td>Central</td>\n",
       "      <td>Commerce</td>\n",
       "      <td>50.20</td>\n",
       "      <td>Comm&amp;Mgmt</td>\n",
       "      <td>Yes</td>\n",
       "      <td>76.00</td>\n",
       "      <td>Mkt&amp;Fin</td>\n",
       "      <td>65.33</td>\n",
       "      <td>Not Placed</td>\n",
       "      <td>NaN</td>\n",
       "    </tr>\n",
       "    <tr>\n",
       "      <th>29</th>\n",
       "      <td>M</td>\n",
       "      <td>62.00</td>\n",
       "      <td>Central</td>\n",
       "      <td>67.0</td>\n",
       "      <td>Central</td>\n",
       "      <td>Commerce</td>\n",
       "      <td>58.00</td>\n",
       "      <td>Comm&amp;Mgmt</td>\n",
       "      <td>No</td>\n",
       "      <td>77.00</td>\n",
       "      <td>Mkt&amp;Fin</td>\n",
       "      <td>51.29</td>\n",
       "      <td>Not Placed</td>\n",
       "      <td>NaN</td>\n",
       "    </tr>\n",
       "  </tbody>\n",
       "</table>\n",
       "</div>"
      ],
      "text/plain": [
       "   gender  ssc_p    ssc_b  hsc_p    hsc_b     hsc_s  degree_p   degree_t  \\\n",
       "3       M  56.00  Central   52.0  Central   Science     52.00   Sci&Tech   \n",
       "5       M  55.00   Others   49.8   Others   Science     67.25   Sci&Tech   \n",
       "6       F  46.00   Others   49.2   Others  Commerce     79.00  Comm&Mgmt   \n",
       "9       M  58.00  Central   70.0  Central  Commerce     61.00  Comm&Mgmt   \n",
       "12      F  47.00  Central   55.0   Others   Science     65.00  Comm&Mgmt   \n",
       "14      M  62.00  Central   47.0  Central  Commerce     50.00  Comm&Mgmt   \n",
       "17      F  55.00  Central   67.0  Central  Commerce     64.00  Comm&Mgmt   \n",
       "18      F  63.00  Central   66.0  Central  Commerce     64.00  Comm&Mgmt   \n",
       "25      F  52.58   Others   54.6  Central  Commerce     50.20  Comm&Mgmt   \n",
       "29      M  62.00  Central   67.0  Central  Commerce     58.00  Comm&Mgmt   \n",
       "\n",
       "   workex  etest_p specialisation  mba_p      status  salary  \n",
       "3      No    66.00         Mkt&HR  59.43  Not Placed     NaN  \n",
       "5     Yes    55.00        Mkt&Fin  51.58  Not Placed     NaN  \n",
       "6      No    74.28        Mkt&Fin  53.29  Not Placed     NaN  \n",
       "9      No    54.00        Mkt&Fin  52.21  Not Placed     NaN  \n",
       "12     No    62.00         Mkt&HR  65.04  Not Placed     NaN  \n",
       "14     No    76.00         Mkt&HR  54.96  Not Placed     NaN  \n",
       "17     No    60.00        Mkt&Fin  67.28  Not Placed     NaN  \n",
       "18     No    68.00         Mkt&HR  64.08  Not Placed     NaN  \n",
       "25    Yes    76.00        Mkt&Fin  65.33  Not Placed     NaN  \n",
       "29     No    77.00        Mkt&Fin  51.29  Not Placed     NaN  "
      ]
     },
     "execution_count": 5,
     "metadata": {},
     "output_type": "execute_result"
    }
   ],
   "source": [
    "placement_data[placement_data[\"status\"]==\"Not Placed\"][:10]"
   ]
  },
  {
   "cell_type": "code",
   "execution_count": 6,
   "id": "6679c636",
   "metadata": {},
   "outputs": [],
   "source": [
    "df = placement_data.copy()"
   ]
  },
  {
   "cell_type": "code",
   "execution_count": 7,
   "id": "ac5e0ee8",
   "metadata": {},
   "outputs": [
    {
     "data": {
      "text/html": [
       "<div>\n",
       "<style scoped>\n",
       "    .dataframe tbody tr th:only-of-type {\n",
       "        vertical-align: middle;\n",
       "    }\n",
       "\n",
       "    .dataframe tbody tr th {\n",
       "        vertical-align: top;\n",
       "    }\n",
       "\n",
       "    .dataframe thead th {\n",
       "        text-align: right;\n",
       "    }\n",
       "</style>\n",
       "<table border=\"1\" class=\"dataframe\">\n",
       "  <thead>\n",
       "    <tr style=\"text-align: right;\">\n",
       "      <th></th>\n",
       "      <th>gender</th>\n",
       "      <th>ssc_p</th>\n",
       "      <th>ssc_b</th>\n",
       "      <th>hsc_p</th>\n",
       "      <th>hsc_b</th>\n",
       "      <th>hsc_s</th>\n",
       "      <th>degree_p</th>\n",
       "      <th>degree_t</th>\n",
       "      <th>workex</th>\n",
       "      <th>etest_p</th>\n",
       "      <th>specialisation</th>\n",
       "      <th>mba_p</th>\n",
       "      <th>status</th>\n",
       "      <th>salary</th>\n",
       "    </tr>\n",
       "  </thead>\n",
       "  <tbody>\n",
       "    <tr>\n",
       "      <th>0</th>\n",
       "      <td>M</td>\n",
       "      <td>67.00</td>\n",
       "      <td>Others</td>\n",
       "      <td>91.00</td>\n",
       "      <td>Others</td>\n",
       "      <td>Commerce</td>\n",
       "      <td>58.00</td>\n",
       "      <td>Sci&amp;Tech</td>\n",
       "      <td>No</td>\n",
       "      <td>55.0</td>\n",
       "      <td>Mkt&amp;HR</td>\n",
       "      <td>58.80</td>\n",
       "      <td>Placed</td>\n",
       "      <td>270000.0</td>\n",
       "    </tr>\n",
       "    <tr>\n",
       "      <th>1</th>\n",
       "      <td>M</td>\n",
       "      <td>79.33</td>\n",
       "      <td>Central</td>\n",
       "      <td>78.33</td>\n",
       "      <td>Others</td>\n",
       "      <td>Science</td>\n",
       "      <td>77.48</td>\n",
       "      <td>Sci&amp;Tech</td>\n",
       "      <td>Yes</td>\n",
       "      <td>86.5</td>\n",
       "      <td>Mkt&amp;Fin</td>\n",
       "      <td>66.28</td>\n",
       "      <td>Placed</td>\n",
       "      <td>200000.0</td>\n",
       "    </tr>\n",
       "    <tr>\n",
       "      <th>2</th>\n",
       "      <td>M</td>\n",
       "      <td>65.00</td>\n",
       "      <td>Central</td>\n",
       "      <td>68.00</td>\n",
       "      <td>Central</td>\n",
       "      <td>Arts</td>\n",
       "      <td>64.00</td>\n",
       "      <td>Comm&amp;Mgmt</td>\n",
       "      <td>No</td>\n",
       "      <td>75.0</td>\n",
       "      <td>Mkt&amp;Fin</td>\n",
       "      <td>57.80</td>\n",
       "      <td>Placed</td>\n",
       "      <td>250000.0</td>\n",
       "    </tr>\n",
       "    <tr>\n",
       "      <th>3</th>\n",
       "      <td>M</td>\n",
       "      <td>56.00</td>\n",
       "      <td>Central</td>\n",
       "      <td>52.00</td>\n",
       "      <td>Central</td>\n",
       "      <td>Science</td>\n",
       "      <td>52.00</td>\n",
       "      <td>Sci&amp;Tech</td>\n",
       "      <td>No</td>\n",
       "      <td>66.0</td>\n",
       "      <td>Mkt&amp;HR</td>\n",
       "      <td>59.43</td>\n",
       "      <td>Not Placed</td>\n",
       "      <td>NaN</td>\n",
       "    </tr>\n",
       "    <tr>\n",
       "      <th>4</th>\n",
       "      <td>M</td>\n",
       "      <td>85.80</td>\n",
       "      <td>Central</td>\n",
       "      <td>73.60</td>\n",
       "      <td>Central</td>\n",
       "      <td>Commerce</td>\n",
       "      <td>73.30</td>\n",
       "      <td>Comm&amp;Mgmt</td>\n",
       "      <td>No</td>\n",
       "      <td>96.8</td>\n",
       "      <td>Mkt&amp;Fin</td>\n",
       "      <td>55.50</td>\n",
       "      <td>Placed</td>\n",
       "      <td>425000.0</td>\n",
       "    </tr>\n",
       "  </tbody>\n",
       "</table>\n",
       "</div>"
      ],
      "text/plain": [
       "  gender  ssc_p    ssc_b  hsc_p    hsc_b     hsc_s  degree_p   degree_t  \\\n",
       "0      M  67.00   Others  91.00   Others  Commerce     58.00   Sci&Tech   \n",
       "1      M  79.33  Central  78.33   Others   Science     77.48   Sci&Tech   \n",
       "2      M  65.00  Central  68.00  Central      Arts     64.00  Comm&Mgmt   \n",
       "3      M  56.00  Central  52.00  Central   Science     52.00   Sci&Tech   \n",
       "4      M  85.80  Central  73.60  Central  Commerce     73.30  Comm&Mgmt   \n",
       "\n",
       "  workex  etest_p specialisation  mba_p      status    salary  \n",
       "0     No     55.0         Mkt&HR  58.80      Placed  270000.0  \n",
       "1    Yes     86.5        Mkt&Fin  66.28      Placed  200000.0  \n",
       "2     No     75.0        Mkt&Fin  57.80      Placed  250000.0  \n",
       "3     No     66.0         Mkt&HR  59.43  Not Placed       NaN  \n",
       "4     No     96.8        Mkt&Fin  55.50      Placed  425000.0  "
      ]
     },
     "execution_count": 7,
     "metadata": {},
     "output_type": "execute_result"
    }
   ],
   "source": [
    "df.head()"
   ]
  },
  {
   "cell_type": "code",
   "execution_count": 8,
   "id": "9d6bbb6b",
   "metadata": {},
   "outputs": [
    {
     "data": {
      "text/plain": [
       "(215, 14)"
      ]
     },
     "execution_count": 8,
     "metadata": {},
     "output_type": "execute_result"
    }
   ],
   "source": [
    "df.shape"
   ]
  },
  {
   "cell_type": "code",
   "execution_count": 9,
   "id": "4e85f8af",
   "metadata": {},
   "outputs": [
    {
     "data": {
      "text/html": [
       "<div>\n",
       "<style scoped>\n",
       "    .dataframe tbody tr th:only-of-type {\n",
       "        vertical-align: middle;\n",
       "    }\n",
       "\n",
       "    .dataframe tbody tr th {\n",
       "        vertical-align: top;\n",
       "    }\n",
       "\n",
       "    .dataframe thead th {\n",
       "        text-align: right;\n",
       "    }\n",
       "</style>\n",
       "<table border=\"1\" class=\"dataframe\">\n",
       "  <thead>\n",
       "    <tr style=\"text-align: right;\">\n",
       "      <th></th>\n",
       "      <th>gender</th>\n",
       "      <th>ssc_p</th>\n",
       "      <th>ssc_b</th>\n",
       "      <th>hsc_p</th>\n",
       "      <th>hsc_b</th>\n",
       "      <th>hsc_s</th>\n",
       "      <th>degree_p</th>\n",
       "      <th>degree_t</th>\n",
       "      <th>workex</th>\n",
       "      <th>etest_p</th>\n",
       "      <th>specialisation</th>\n",
       "      <th>mba_p</th>\n",
       "      <th>status</th>\n",
       "      <th>salary</th>\n",
       "    </tr>\n",
       "  </thead>\n",
       "  <tbody>\n",
       "    <tr>\n",
       "      <th>210</th>\n",
       "      <td>M</td>\n",
       "      <td>80.6</td>\n",
       "      <td>Others</td>\n",
       "      <td>82.0</td>\n",
       "      <td>Others</td>\n",
       "      <td>Commerce</td>\n",
       "      <td>77.6</td>\n",
       "      <td>Comm&amp;Mgmt</td>\n",
       "      <td>No</td>\n",
       "      <td>91.0</td>\n",
       "      <td>Mkt&amp;Fin</td>\n",
       "      <td>74.49</td>\n",
       "      <td>Placed</td>\n",
       "      <td>400000.0</td>\n",
       "    </tr>\n",
       "    <tr>\n",
       "      <th>211</th>\n",
       "      <td>M</td>\n",
       "      <td>58.0</td>\n",
       "      <td>Others</td>\n",
       "      <td>60.0</td>\n",
       "      <td>Others</td>\n",
       "      <td>Science</td>\n",
       "      <td>72.0</td>\n",
       "      <td>Sci&amp;Tech</td>\n",
       "      <td>No</td>\n",
       "      <td>74.0</td>\n",
       "      <td>Mkt&amp;Fin</td>\n",
       "      <td>53.62</td>\n",
       "      <td>Placed</td>\n",
       "      <td>275000.0</td>\n",
       "    </tr>\n",
       "    <tr>\n",
       "      <th>212</th>\n",
       "      <td>M</td>\n",
       "      <td>67.0</td>\n",
       "      <td>Others</td>\n",
       "      <td>67.0</td>\n",
       "      <td>Others</td>\n",
       "      <td>Commerce</td>\n",
       "      <td>73.0</td>\n",
       "      <td>Comm&amp;Mgmt</td>\n",
       "      <td>Yes</td>\n",
       "      <td>59.0</td>\n",
       "      <td>Mkt&amp;Fin</td>\n",
       "      <td>69.72</td>\n",
       "      <td>Placed</td>\n",
       "      <td>295000.0</td>\n",
       "    </tr>\n",
       "    <tr>\n",
       "      <th>213</th>\n",
       "      <td>F</td>\n",
       "      <td>74.0</td>\n",
       "      <td>Others</td>\n",
       "      <td>66.0</td>\n",
       "      <td>Others</td>\n",
       "      <td>Commerce</td>\n",
       "      <td>58.0</td>\n",
       "      <td>Comm&amp;Mgmt</td>\n",
       "      <td>No</td>\n",
       "      <td>70.0</td>\n",
       "      <td>Mkt&amp;HR</td>\n",
       "      <td>60.23</td>\n",
       "      <td>Placed</td>\n",
       "      <td>204000.0</td>\n",
       "    </tr>\n",
       "    <tr>\n",
       "      <th>214</th>\n",
       "      <td>M</td>\n",
       "      <td>62.0</td>\n",
       "      <td>Central</td>\n",
       "      <td>58.0</td>\n",
       "      <td>Others</td>\n",
       "      <td>Science</td>\n",
       "      <td>53.0</td>\n",
       "      <td>Comm&amp;Mgmt</td>\n",
       "      <td>No</td>\n",
       "      <td>89.0</td>\n",
       "      <td>Mkt&amp;HR</td>\n",
       "      <td>60.22</td>\n",
       "      <td>Not Placed</td>\n",
       "      <td>NaN</td>\n",
       "    </tr>\n",
       "  </tbody>\n",
       "</table>\n",
       "</div>"
      ],
      "text/plain": [
       "    gender  ssc_p    ssc_b  hsc_p   hsc_b     hsc_s  degree_p   degree_t  \\\n",
       "210      M   80.6   Others   82.0  Others  Commerce      77.6  Comm&Mgmt   \n",
       "211      M   58.0   Others   60.0  Others   Science      72.0   Sci&Tech   \n",
       "212      M   67.0   Others   67.0  Others  Commerce      73.0  Comm&Mgmt   \n",
       "213      F   74.0   Others   66.0  Others  Commerce      58.0  Comm&Mgmt   \n",
       "214      M   62.0  Central   58.0  Others   Science      53.0  Comm&Mgmt   \n",
       "\n",
       "    workex  etest_p specialisation  mba_p      status    salary  \n",
       "210     No     91.0        Mkt&Fin  74.49      Placed  400000.0  \n",
       "211     No     74.0        Mkt&Fin  53.62      Placed  275000.0  \n",
       "212    Yes     59.0        Mkt&Fin  69.72      Placed  295000.0  \n",
       "213     No     70.0         Mkt&HR  60.23      Placed  204000.0  \n",
       "214     No     89.0         Mkt&HR  60.22  Not Placed       NaN  "
      ]
     },
     "execution_count": 9,
     "metadata": {},
     "output_type": "execute_result"
    }
   ],
   "source": [
    "df.tail()"
   ]
  },
  {
   "cell_type": "code",
   "execution_count": 10,
   "id": "a5795790",
   "metadata": {},
   "outputs": [
    {
     "data": {
      "text/html": [
       "<div>\n",
       "<style scoped>\n",
       "    .dataframe tbody tr th:only-of-type {\n",
       "        vertical-align: middle;\n",
       "    }\n",
       "\n",
       "    .dataframe tbody tr th {\n",
       "        vertical-align: top;\n",
       "    }\n",
       "\n",
       "    .dataframe thead th {\n",
       "        text-align: right;\n",
       "    }\n",
       "</style>\n",
       "<table border=\"1\" class=\"dataframe\">\n",
       "  <thead>\n",
       "    <tr style=\"text-align: right;\">\n",
       "      <th></th>\n",
       "      <th>ssc_p</th>\n",
       "      <th>hsc_p</th>\n",
       "      <th>degree_p</th>\n",
       "      <th>etest_p</th>\n",
       "      <th>mba_p</th>\n",
       "      <th>salary</th>\n",
       "    </tr>\n",
       "  </thead>\n",
       "  <tbody>\n",
       "    <tr>\n",
       "      <th>count</th>\n",
       "      <td>215.000000</td>\n",
       "      <td>215.000000</td>\n",
       "      <td>215.000000</td>\n",
       "      <td>215.000000</td>\n",
       "      <td>215.000000</td>\n",
       "      <td>148.000000</td>\n",
       "    </tr>\n",
       "    <tr>\n",
       "      <th>mean</th>\n",
       "      <td>67.303395</td>\n",
       "      <td>66.333163</td>\n",
       "      <td>66.370186</td>\n",
       "      <td>72.100558</td>\n",
       "      <td>62.278186</td>\n",
       "      <td>288655.405405</td>\n",
       "    </tr>\n",
       "    <tr>\n",
       "      <th>std</th>\n",
       "      <td>10.827205</td>\n",
       "      <td>10.897509</td>\n",
       "      <td>7.358743</td>\n",
       "      <td>13.275956</td>\n",
       "      <td>5.833385</td>\n",
       "      <td>93457.452420</td>\n",
       "    </tr>\n",
       "    <tr>\n",
       "      <th>min</th>\n",
       "      <td>40.890000</td>\n",
       "      <td>37.000000</td>\n",
       "      <td>50.000000</td>\n",
       "      <td>50.000000</td>\n",
       "      <td>51.210000</td>\n",
       "      <td>200000.000000</td>\n",
       "    </tr>\n",
       "    <tr>\n",
       "      <th>25%</th>\n",
       "      <td>60.600000</td>\n",
       "      <td>60.900000</td>\n",
       "      <td>61.000000</td>\n",
       "      <td>60.000000</td>\n",
       "      <td>57.945000</td>\n",
       "      <td>240000.000000</td>\n",
       "    </tr>\n",
       "    <tr>\n",
       "      <th>50%</th>\n",
       "      <td>67.000000</td>\n",
       "      <td>65.000000</td>\n",
       "      <td>66.000000</td>\n",
       "      <td>71.000000</td>\n",
       "      <td>62.000000</td>\n",
       "      <td>265000.000000</td>\n",
       "    </tr>\n",
       "    <tr>\n",
       "      <th>75%</th>\n",
       "      <td>75.700000</td>\n",
       "      <td>73.000000</td>\n",
       "      <td>72.000000</td>\n",
       "      <td>83.500000</td>\n",
       "      <td>66.255000</td>\n",
       "      <td>300000.000000</td>\n",
       "    </tr>\n",
       "    <tr>\n",
       "      <th>max</th>\n",
       "      <td>89.400000</td>\n",
       "      <td>97.700000</td>\n",
       "      <td>91.000000</td>\n",
       "      <td>98.000000</td>\n",
       "      <td>77.890000</td>\n",
       "      <td>940000.000000</td>\n",
       "    </tr>\n",
       "  </tbody>\n",
       "</table>\n",
       "</div>"
      ],
      "text/plain": [
       "            ssc_p       hsc_p    degree_p     etest_p       mba_p  \\\n",
       "count  215.000000  215.000000  215.000000  215.000000  215.000000   \n",
       "mean    67.303395   66.333163   66.370186   72.100558   62.278186   \n",
       "std     10.827205   10.897509    7.358743   13.275956    5.833385   \n",
       "min     40.890000   37.000000   50.000000   50.000000   51.210000   \n",
       "25%     60.600000   60.900000   61.000000   60.000000   57.945000   \n",
       "50%     67.000000   65.000000   66.000000   71.000000   62.000000   \n",
       "75%     75.700000   73.000000   72.000000   83.500000   66.255000   \n",
       "max     89.400000   97.700000   91.000000   98.000000   77.890000   \n",
       "\n",
       "              salary  \n",
       "count     148.000000  \n",
       "mean   288655.405405  \n",
       "std     93457.452420  \n",
       "min    200000.000000  \n",
       "25%    240000.000000  \n",
       "50%    265000.000000  \n",
       "75%    300000.000000  \n",
       "max    940000.000000  "
      ]
     },
     "execution_count": 10,
     "metadata": {},
     "output_type": "execute_result"
    }
   ],
   "source": [
    "df.describe()"
   ]
  },
  {
   "cell_type": "code",
   "execution_count": 11,
   "id": "7d66f62a",
   "metadata": {},
   "outputs": [
    {
     "data": {
      "text/plain": [
       "gender             object\n",
       "ssc_p             float64\n",
       "ssc_b              object\n",
       "hsc_p             float64\n",
       "hsc_b              object\n",
       "hsc_s              object\n",
       "degree_p          float64\n",
       "degree_t           object\n",
       "workex             object\n",
       "etest_p           float64\n",
       "specialisation     object\n",
       "mba_p             float64\n",
       "status             object\n",
       "salary            float64\n",
       "dtype: object"
      ]
     },
     "execution_count": 11,
     "metadata": {},
     "output_type": "execute_result"
    }
   ],
   "source": [
    "df.dtypes"
   ]
  },
  {
   "cell_type": "code",
   "execution_count": 12,
   "id": "a499e716",
   "metadata": {},
   "outputs": [
    {
     "data": {
      "text/plain": [
       "gender             0\n",
       "ssc_p              0\n",
       "ssc_b              0\n",
       "hsc_p              0\n",
       "hsc_b              0\n",
       "hsc_s              0\n",
       "degree_p           0\n",
       "degree_t           0\n",
       "workex             0\n",
       "etest_p            0\n",
       "specialisation     0\n",
       "mba_p              0\n",
       "status             0\n",
       "salary            67\n",
       "dtype: int64"
      ]
     },
     "execution_count": 12,
     "metadata": {},
     "output_type": "execute_result"
    }
   ],
   "source": [
    "df.isna().sum()"
   ]
  },
  {
   "cell_type": "code",
   "execution_count": 13,
   "id": "a57541dc",
   "metadata": {},
   "outputs": [
    {
     "data": {
      "text/plain": [
       "3     NaN\n",
       "5     NaN\n",
       "6     NaN\n",
       "9     NaN\n",
       "12    NaN\n",
       "       ..\n",
       "198   NaN\n",
       "201   NaN\n",
       "206   NaN\n",
       "208   NaN\n",
       "214   NaN\n",
       "Name: salary, Length: 67, dtype: float64"
      ]
     },
     "execution_count": 13,
     "metadata": {},
     "output_type": "execute_result"
    }
   ],
   "source": [
    "# Checking the salary of those who are not placed\n",
    "df[\"salary\"][df[\"status\"]==\"Not Placed\"]"
   ]
  },
  {
   "cell_type": "code",
   "execution_count": 14,
   "id": "4305d82e",
   "metadata": {},
   "outputs": [
    {
     "data": {
      "text/plain": [
       "67"
      ]
     },
     "execution_count": 14,
     "metadata": {},
     "output_type": "execute_result"
    }
   ],
   "source": [
    "len(df[\"salary\"][df[\"status\"]==\"Not Placed\"])"
   ]
  },
  {
   "cell_type": "code",
   "execution_count": 15,
   "id": "13875463",
   "metadata": {},
   "outputs": [
    {
     "data": {
      "image/png": "[encoded data removed]",
      "text/plain": [
       "<Figure size 432x288 with 1 Axes>"
      ]
     },
     "metadata": {
      "needs_background": "light"
     },
     "output_type": "display_data"
    }
   ],
   "source": [
    "df[\"status\"].value_counts().plot(kind = \"bar\",color=[\"skyblue\"])\n",
    "plt.xticks(rotation = 0)\n",
    "plt.ylabel(\"Number of student\");"
   ]
  },
  {
   "cell_type": "code",
   "execution_count": 16,
   "id": "9f054c90",
   "metadata": {},
   "outputs": [
    {
     "data": {
      "text/html": [
       "<div>\n",
       "<style scoped>\n",
       "    .dataframe tbody tr th:only-of-type {\n",
       "        vertical-align: middle;\n",
       "    }\n",
       "\n",
       "    .dataframe tbody tr th {\n",
       "        vertical-align: top;\n",
       "    }\n",
       "\n",
       "    .dataframe thead th {\n",
       "        text-align: right;\n",
       "    }\n",
       "</style>\n",
       "<table border=\"1\" class=\"dataframe\">\n",
       "  <thead>\n",
       "    <tr style=\"text-align: right;\">\n",
       "      <th>gender</th>\n",
       "      <th>F</th>\n",
       "      <th>M</th>\n",
       "    </tr>\n",
       "    <tr>\n",
       "      <th>status</th>\n",
       "      <th></th>\n",
       "      <th></th>\n",
       "    </tr>\n",
       "  </thead>\n",
       "  <tbody>\n",
       "    <tr>\n",
       "      <th>Not Placed</th>\n",
       "      <td>28</td>\n",
       "      <td>39</td>\n",
       "    </tr>\n",
       "    <tr>\n",
       "      <th>Placed</th>\n",
       "      <td>48</td>\n",
       "      <td>100</td>\n",
       "    </tr>\n",
       "  </tbody>\n",
       "</table>\n",
       "</div>"
      ],
      "text/plain": [
       "gender       F    M\n",
       "status             \n",
       "Not Placed  28   39\n",
       "Placed      48  100"
      ]
     },
     "execution_count": 16,
     "metadata": {},
     "output_type": "execute_result"
    }
   ],
   "source": [
    "# To Know how many boys and girls get placed\n",
    "pd.crosstab(df[\"status\"],df[\"gender\"])"
   ]
  },
  {
   "cell_type": "code",
   "execution_count": 17,
   "id": "52f4a240",
   "metadata": {},
   "outputs": [
    {
     "data": {
      "image/png": "[encoded data removed]",
      "text/plain": [
       "<Figure size 432x288 with 1 Axes>"
      ]
     },
     "metadata": {
      "needs_background": "light"
     },
     "output_type": "display_data"
    }
   ],
   "source": [
    "# Getting the visualization\n",
    "pd.crosstab(df[\"status\"],df[\"gender\"]).plot(kind = \"bar\",\n",
    "                                          color= [\"pink\",\"lightblue\"])\n",
    "plt.title(\"Number of Males and Females Who were placed \")\n",
    "plt.legend()\n",
    "plt.xticks(rotation=0)\n",
    "plt.ylabel(\"Number of Students\")\n",
    "plt.show()"
   ]
  },
  {
   "cell_type": "code",
   "execution_count": 18,
   "id": "6a887595",
   "metadata": {},
   "outputs": [
    {
     "data": {
      "text/plain": [
       "Comm&Mgmt    145\n",
       "Sci&Tech      59\n",
       "Others        11\n",
       "Name: degree_t, dtype: int64"
      ]
     },
     "execution_count": 18,
     "metadata": {},
     "output_type": "execute_result"
    }
   ],
   "source": [
    "df[\"degree_t\"].value_counts()"
   ]
  },
  {
   "cell_type": "code",
   "execution_count": 19,
   "id": "10b5e7b0",
   "metadata": {},
   "outputs": [
    {
     "data": {
      "image/png": "[encoded data removed]",
      "text/plain": [
       "<Figure size 432x288 with 1 Axes>"
      ]
     },
     "metadata": {
      "needs_background": "light"
     },
     "output_type": "display_data"
    }
   ],
   "source": [
    "# Plotting the placed students of various degree holders\n",
    "df[\"degree_t\"][df[\"status\"]==\"Placed\"].value_counts().plot(kind = \"bar\",\n",
    "                                                           color =\"yellow\")\n",
    "plt.title(\"Department vs Placed\")\n",
    "plt.ylabel(\"Number of Students\")\n",
    "plt.xticks(rotation= 0)\n",
    "plt.show()"
   ]
  },
  {
   "cell_type": "code",
   "execution_count": 20,
   "id": "ada0cdf5",
   "metadata": {},
   "outputs": [
    {
     "data": {
      "text/plain": [
       "Index(['gender', 'ssc_p', 'ssc_b', 'hsc_p', 'hsc_b', 'hsc_s', 'degree_p',\n",
       "       'degree_t', 'workex', 'etest_p', 'specialisation', 'mba_p', 'status',\n",
       "       'salary'],\n",
       "      dtype='object')"
      ]
     },
     "execution_count": 20,
     "metadata": {},
     "output_type": "execute_result"
    }
   ],
   "source": [
    "df.columns\n"
   ]
  },
  {
   "cell_type": "code",
   "execution_count": 21,
   "id": "87a604ad",
   "metadata": {},
   "outputs": [
    {
     "data": {
      "image/png": "[encoded data removed]",
      "text/plain": [
       "<Figure size 432x288 with 1 Axes>"
      ]
     },
     "metadata": {
      "needs_background": "light"
     },
     "output_type": "display_data"
    }
   ],
   "source": [
    "df[\"specialisation\"][df.status ==\"Placed\"].value_counts().plot(kind = \"bar\",color = [\"pink\"])\n",
    "plt.title(\"Specialization vs Placed\")\n",
    "plt.xticks(rotation = 0);"
   ]
  },
  {
   "cell_type": "code",
   "execution_count": 22,
   "id": "9c042901",
   "metadata": {},
   "outputs": [
    {
     "data": {
      "image/png": "[encoded data removed]",
      "text/plain": [
       "<Figure size 720x504 with 1 Axes>"
      ]
     },
     "metadata": {
      "needs_background": "light"
     },
     "output_type": "display_data"
    }
   ],
   "source": [
    "# Plotting the students placed status with their SSC percent and HSC percent\n",
    "plt.figure(figsize = (10,7))\n",
    "# Plotting the guys who were placed\n",
    "plt.scatter(df[\"ssc_p\"][df[\"status\"]==\"Placed\"],\n",
    "           df[\"hsc_p\"][df[\"status\"]==\"Placed\"],\n",
    "           color = [\"lightblue\"])\n",
    "\n",
    "\n",
    "# Plotting the huys who were not placed\n",
    "plt.scatter(df[\"ssc_p\"][df[\"status\"]==\"Not Placed\"],\n",
    "           df[\"hsc_p\"][df[\"status\"]==\"Not Placed\"],\n",
    "           color = [\"salmon\"])\n",
    "\n",
    "# Adding some useful info\n",
    "plt.title(\"Placed Students with their 10th and high school marks\")\n",
    "plt.xlabel(\"<------10th Percentage------>\")\n",
    "plt.ylabel(\"<------ High School percentage------>\")\n",
    "\n",
    "plt.legend([\"Placed\",\"Not Placed\"]);"
   ]
  },
  {
   "cell_type": "code",
   "execution_count": 23,
   "id": "8327574b",
   "metadata": {},
   "outputs": [
    {
     "data": {
      "image/png": "[encoded data removed]",
      "text/plain": [
       "<Figure size 720x504 with 1 Axes>"
      ]
     },
     "metadata": {
      "needs_background": "light"
     },
     "output_type": "display_data"
    }
   ],
   "source": [
    "# Plotting the students placed status with their Degree percent and MBA percent\n",
    "plt.figure(figsize = (10,7))\n",
    "# Plotting the guys who were placed\n",
    "plt.scatter(df[\"degree_p\"][df[\"status\"]==\"Placed\"],\n",
    "           df[\"mba_p\"][df[\"status\"]==\"Placed\"],\n",
    "           color = [\"lightblue\"])\n",
    "\n",
    "\n",
    "# Plotting the huys who were not placed\n",
    "plt.scatter(df[\"degree_p\"][df[\"status\"]==\"Not Placed\"],\n",
    "           df[\"mba_p\"][df[\"status\"]==\"Not Placed\"],\n",
    "           color = [\"salmon\"])\n",
    "\n",
    "# Adding some useful info\n",
    "plt.title(\"Placed Students with their 10th and high school marks\")\n",
    "plt.xlabel(\"<------Degree Percentage------>\")\n",
    "plt.ylabel(\"<------ MBA percentage------>\")\n",
    "\n",
    "plt.legend([\"Placed\",\"Not Placed\"]);"
   ]
  },
  {
   "cell_type": "code",
   "execution_count": 24,
   "id": "43be42b4",
   "metadata": {},
   "outputs": [
    {
     "data": {
      "text/html": [
       "<div>\n",
       "<style scoped>\n",
       "    .dataframe tbody tr th:only-of-type {\n",
       "        vertical-align: middle;\n",
       "    }\n",
       "\n",
       "    .dataframe tbody tr th {\n",
       "        vertical-align: top;\n",
       "    }\n",
       "\n",
       "    .dataframe thead th {\n",
       "        text-align: right;\n",
       "    }\n",
       "</style>\n",
       "<table border=\"1\" class=\"dataframe\">\n",
       "  <thead>\n",
       "    <tr style=\"text-align: right;\">\n",
       "      <th>workex</th>\n",
       "      <th>No</th>\n",
       "      <th>Yes</th>\n",
       "    </tr>\n",
       "    <tr>\n",
       "      <th>status</th>\n",
       "      <th></th>\n",
       "      <th></th>\n",
       "    </tr>\n",
       "  </thead>\n",
       "  <tbody>\n",
       "    <tr>\n",
       "      <th>Not Placed</th>\n",
       "      <td>57</td>\n",
       "      <td>10</td>\n",
       "    </tr>\n",
       "    <tr>\n",
       "      <th>Placed</th>\n",
       "      <td>84</td>\n",
       "      <td>64</td>\n",
       "    </tr>\n",
       "  </tbody>\n",
       "</table>\n",
       "</div>"
      ],
      "text/plain": [
       "workex      No  Yes\n",
       "status             \n",
       "Not Placed  57   10\n",
       "Placed      84   64"
      ]
     },
     "execution_count": 24,
     "metadata": {},
     "output_type": "execute_result"
    }
   ],
   "source": [
    "# Students with work experience who got placed and not placed\n",
    "pd.crosstab(df[\"status\"],df[\"workex\"])"
   ]
  },
  {
   "cell_type": "code",
   "execution_count": 25,
   "id": "2ef75e2d",
   "metadata": {},
   "outputs": [
    {
     "data": {
      "image/png": "[encoded data removed]",
      "text/plain": [
       "<Figure size 432x288 with 1 Axes>"
      ]
     },
     "metadata": {
      "needs_background": "light"
     },
     "output_type": "display_data"
    }
   ],
   "source": [
    "# Visualizing it\n",
    "pd.crosstab(df[\"status\"],df[\"workex\"]).plot(kind = \"bar\",color = [\"Grey\",\"Blue\"])\n",
    "plt.title(\"Students who got placed with work experience\")\n",
    "plt.xticks(rotation = 0)\n",
    "plt.legend(bbox_to_anchor = (1.18,1));"
   ]
  },
  {
   "cell_type": "code",
   "execution_count": 26,
   "id": "2f70e9ab",
   "metadata": {},
   "outputs": [
    {
     "data": {
      "text/html": [
       "<div>\n",
       "<style scoped>\n",
       "    .dataframe tbody tr th:only-of-type {\n",
       "        vertical-align: middle;\n",
       "    }\n",
       "\n",
       "    .dataframe tbody tr th {\n",
       "        vertical-align: top;\n",
       "    }\n",
       "\n",
       "    .dataframe thead th {\n",
       "        text-align: right;\n",
       "    }\n",
       "</style>\n",
       "<table border=\"1\" class=\"dataframe\">\n",
       "  <thead>\n",
       "    <tr style=\"text-align: right;\">\n",
       "      <th></th>\n",
       "      <th>gender</th>\n",
       "      <th>ssc_p</th>\n",
       "      <th>ssc_b</th>\n",
       "      <th>hsc_p</th>\n",
       "      <th>hsc_b</th>\n",
       "      <th>hsc_s</th>\n",
       "      <th>degree_p</th>\n",
       "      <th>degree_t</th>\n",
       "      <th>workex</th>\n",
       "      <th>etest_p</th>\n",
       "      <th>specialisation</th>\n",
       "      <th>mba_p</th>\n",
       "      <th>status</th>\n",
       "      <th>salary</th>\n",
       "    </tr>\n",
       "  </thead>\n",
       "  <tbody>\n",
       "    <tr>\n",
       "      <th>0</th>\n",
       "      <td>M</td>\n",
       "      <td>67.00</td>\n",
       "      <td>Others</td>\n",
       "      <td>91.00</td>\n",
       "      <td>Others</td>\n",
       "      <td>Commerce</td>\n",
       "      <td>58.00</td>\n",
       "      <td>Sci&amp;Tech</td>\n",
       "      <td>No</td>\n",
       "      <td>55.0</td>\n",
       "      <td>Mkt&amp;HR</td>\n",
       "      <td>58.80</td>\n",
       "      <td>Placed</td>\n",
       "      <td>270000.0</td>\n",
       "    </tr>\n",
       "    <tr>\n",
       "      <th>1</th>\n",
       "      <td>M</td>\n",
       "      <td>79.33</td>\n",
       "      <td>Central</td>\n",
       "      <td>78.33</td>\n",
       "      <td>Others</td>\n",
       "      <td>Science</td>\n",
       "      <td>77.48</td>\n",
       "      <td>Sci&amp;Tech</td>\n",
       "      <td>Yes</td>\n",
       "      <td>86.5</td>\n",
       "      <td>Mkt&amp;Fin</td>\n",
       "      <td>66.28</td>\n",
       "      <td>Placed</td>\n",
       "      <td>200000.0</td>\n",
       "    </tr>\n",
       "    <tr>\n",
       "      <th>2</th>\n",
       "      <td>M</td>\n",
       "      <td>65.00</td>\n",
       "      <td>Central</td>\n",
       "      <td>68.00</td>\n",
       "      <td>Central</td>\n",
       "      <td>Arts</td>\n",
       "      <td>64.00</td>\n",
       "      <td>Comm&amp;Mgmt</td>\n",
       "      <td>No</td>\n",
       "      <td>75.0</td>\n",
       "      <td>Mkt&amp;Fin</td>\n",
       "      <td>57.80</td>\n",
       "      <td>Placed</td>\n",
       "      <td>250000.0</td>\n",
       "    </tr>\n",
       "    <tr>\n",
       "      <th>3</th>\n",
       "      <td>M</td>\n",
       "      <td>56.00</td>\n",
       "      <td>Central</td>\n",
       "      <td>52.00</td>\n",
       "      <td>Central</td>\n",
       "      <td>Science</td>\n",
       "      <td>52.00</td>\n",
       "      <td>Sci&amp;Tech</td>\n",
       "      <td>No</td>\n",
       "      <td>66.0</td>\n",
       "      <td>Mkt&amp;HR</td>\n",
       "      <td>59.43</td>\n",
       "      <td>Not Placed</td>\n",
       "      <td>NaN</td>\n",
       "    </tr>\n",
       "    <tr>\n",
       "      <th>4</th>\n",
       "      <td>M</td>\n",
       "      <td>85.80</td>\n",
       "      <td>Central</td>\n",
       "      <td>73.60</td>\n",
       "      <td>Central</td>\n",
       "      <td>Commerce</td>\n",
       "      <td>73.30</td>\n",
       "      <td>Comm&amp;Mgmt</td>\n",
       "      <td>No</td>\n",
       "      <td>96.8</td>\n",
       "      <td>Mkt&amp;Fin</td>\n",
       "      <td>55.50</td>\n",
       "      <td>Placed</td>\n",
       "      <td>425000.0</td>\n",
       "    </tr>\n",
       "  </tbody>\n",
       "</table>\n",
       "</div>"
      ],
      "text/plain": [
       "  gender  ssc_p    ssc_b  hsc_p    hsc_b     hsc_s  degree_p   degree_t  \\\n",
       "0      M  67.00   Others  91.00   Others  Commerce     58.00   Sci&Tech   \n",
       "1      M  79.33  Central  78.33   Others   Science     77.48   Sci&Tech   \n",
       "2      M  65.00  Central  68.00  Central      Arts     64.00  Comm&Mgmt   \n",
       "3      M  56.00  Central  52.00  Central   Science     52.00   Sci&Tech   \n",
       "4      M  85.80  Central  73.60  Central  Commerce     73.30  Comm&Mgmt   \n",
       "\n",
       "  workex  etest_p specialisation  mba_p      status    salary  \n",
       "0     No     55.0         Mkt&HR  58.80      Placed  270000.0  \n",
       "1    Yes     86.5        Mkt&Fin  66.28      Placed  200000.0  \n",
       "2     No     75.0        Mkt&Fin  57.80      Placed  250000.0  \n",
       "3     No     66.0         Mkt&HR  59.43  Not Placed       NaN  \n",
       "4     No     96.8        Mkt&Fin  55.50      Placed  425000.0  "
      ]
     },
     "execution_count": 26,
     "metadata": {},
     "output_type": "execute_result"
    }
   ],
   "source": [
    "df.head()"
   ]
  },
  {
   "cell_type": "code",
   "execution_count": 27,
   "id": "030f18ec",
   "metadata": {},
   "outputs": [
    {
     "data": {
      "text/html": [
       "<div>\n",
       "<style scoped>\n",
       "    .dataframe tbody tr th:only-of-type {\n",
       "        vertical-align: middle;\n",
       "    }\n",
       "\n",
       "    .dataframe tbody tr th {\n",
       "        vertical-align: top;\n",
       "    }\n",
       "\n",
       "    .dataframe thead th {\n",
       "        text-align: right;\n",
       "    }\n",
       "</style>\n",
       "<table border=\"1\" class=\"dataframe\">\n",
       "  <thead>\n",
       "    <tr style=\"text-align: right;\">\n",
       "      <th></th>\n",
       "      <th>gender</th>\n",
       "      <th>ssc_p</th>\n",
       "      <th>ssc_b</th>\n",
       "      <th>hsc_p</th>\n",
       "      <th>hsc_b</th>\n",
       "      <th>hsc_s</th>\n",
       "      <th>degree_p</th>\n",
       "      <th>degree_t</th>\n",
       "      <th>workex</th>\n",
       "      <th>etest_p</th>\n",
       "      <th>specialisation</th>\n",
       "      <th>mba_p</th>\n",
       "      <th>status</th>\n",
       "      <th>salary</th>\n",
       "    </tr>\n",
       "  </thead>\n",
       "  <tbody>\n",
       "  </tbody>\n",
       "</table>\n",
       "</div>"
      ],
      "text/plain": [
       "Empty DataFrame\n",
       "Columns: [gender, ssc_p, ssc_b, hsc_p, hsc_b, hsc_s, degree_p, degree_t, workex, etest_p, specialisation, mba_p, status, salary]\n",
       "Index: []"
      ]
     },
     "execution_count": 27,
     "metadata": {},
     "output_type": "execute_result"
    }
   ],
   "source": [
    "df[df[\"status\"]==0][:10]"
   ]
  },
  {
   "cell_type": "code",
   "execution_count": 28,
   "id": "4182a7fa",
   "metadata": {},
   "outputs": [
    {
     "data": {
      "text/plain": [
       "Comm&Mgmt    102\n",
       "Sci&Tech      41\n",
       "Others         5\n",
       "Name: degree_t, dtype: int64"
      ]
     },
     "execution_count": 28,
     "metadata": {},
     "output_type": "execute_result"
    }
   ],
   "source": [
    "# Degree in Demand by the corporate\n",
    "df[\"degree_t\"][df.status==\"Placed\"].value_counts()"
   ]
  },
  {
   "cell_type": "code",
   "execution_count": 29,
   "id": "5490ecb4",
   "metadata": {},
   "outputs": [
    {
     "data": {
      "image/png": "[encoded data removed]",
      "text/plain": [
       "<Figure size 432x288 with 1 Axes>"
      ]
     },
     "metadata": {
      "needs_background": "light"
     },
     "output_type": "display_data"
    }
   ],
   "source": [
    "# Plotting \n",
    "df[\"degree_t\"][df.status==\"Placed\"].value_counts().plot(kind = \"bar\",color = \"Blue\")\n",
    "plt.xlabel(\"<------ Degree ------>\")\n",
    "plt.xticks(rotation = 0);"
   ]
  },
  {
   "cell_type": "markdown",
   "id": "1357d75a",
   "metadata": {},
   "source": [
    "From the above we can deduce that Comm&Mgmt is being preferred by the corporate"
   ]
  },
  {
   "cell_type": "markdown",
   "id": "7300f37d",
   "metadata": {},
   "source": [
    "## Data Preprocessing"
   ]
  },
  {
   "cell_type": "code",
   "execution_count": 30,
   "id": "6a2be4c2",
   "metadata": {},
   "outputs": [
    {
     "data": {
      "text/html": [
       "<div>\n",
       "<style scoped>\n",
       "    .dataframe tbody tr th:only-of-type {\n",
       "        vertical-align: middle;\n",
       "    }\n",
       "\n",
       "    .dataframe tbody tr th {\n",
       "        vertical-align: top;\n",
       "    }\n",
       "\n",
       "    .dataframe thead th {\n",
       "        text-align: right;\n",
       "    }\n",
       "</style>\n",
       "<table border=\"1\" class=\"dataframe\">\n",
       "  <thead>\n",
       "    <tr style=\"text-align: right;\">\n",
       "      <th></th>\n",
       "      <th>ssc_p</th>\n",
       "      <th>hsc_p</th>\n",
       "      <th>degree_p</th>\n",
       "      <th>etest_p</th>\n",
       "      <th>mba_p</th>\n",
       "      <th>salary</th>\n",
       "    </tr>\n",
       "  </thead>\n",
       "  <tbody>\n",
       "    <tr>\n",
       "      <th>count</th>\n",
       "      <td>215.000000</td>\n",
       "      <td>215.000000</td>\n",
       "      <td>215.000000</td>\n",
       "      <td>215.000000</td>\n",
       "      <td>215.000000</td>\n",
       "      <td>148.000000</td>\n",
       "    </tr>\n",
       "    <tr>\n",
       "      <th>mean</th>\n",
       "      <td>67.303395</td>\n",
       "      <td>66.333163</td>\n",
       "      <td>66.370186</td>\n",
       "      <td>72.100558</td>\n",
       "      <td>62.278186</td>\n",
       "      <td>288655.405405</td>\n",
       "    </tr>\n",
       "    <tr>\n",
       "      <th>std</th>\n",
       "      <td>10.827205</td>\n",
       "      <td>10.897509</td>\n",
       "      <td>7.358743</td>\n",
       "      <td>13.275956</td>\n",
       "      <td>5.833385</td>\n",
       "      <td>93457.452420</td>\n",
       "    </tr>\n",
       "    <tr>\n",
       "      <th>min</th>\n",
       "      <td>40.890000</td>\n",
       "      <td>37.000000</td>\n",
       "      <td>50.000000</td>\n",
       "      <td>50.000000</td>\n",
       "      <td>51.210000</td>\n",
       "      <td>200000.000000</td>\n",
       "    </tr>\n",
       "    <tr>\n",
       "      <th>25%</th>\n",
       "      <td>60.600000</td>\n",
       "      <td>60.900000</td>\n",
       "      <td>61.000000</td>\n",
       "      <td>60.000000</td>\n",
       "      <td>57.945000</td>\n",
       "      <td>240000.000000</td>\n",
       "    </tr>\n",
       "    <tr>\n",
       "      <th>50%</th>\n",
       "      <td>67.000000</td>\n",
       "      <td>65.000000</td>\n",
       "      <td>66.000000</td>\n",
       "      <td>71.000000</td>\n",
       "      <td>62.000000</td>\n",
       "      <td>265000.000000</td>\n",
       "    </tr>\n",
       "    <tr>\n",
       "      <th>75%</th>\n",
       "      <td>75.700000</td>\n",
       "      <td>73.000000</td>\n",
       "      <td>72.000000</td>\n",
       "      <td>83.500000</td>\n",
       "      <td>66.255000</td>\n",
       "      <td>300000.000000</td>\n",
       "    </tr>\n",
       "    <tr>\n",
       "      <th>max</th>\n",
       "      <td>89.400000</td>\n",
       "      <td>97.700000</td>\n",
       "      <td>91.000000</td>\n",
       "      <td>98.000000</td>\n",
       "      <td>77.890000</td>\n",
       "      <td>940000.000000</td>\n",
       "    </tr>\n",
       "  </tbody>\n",
       "</table>\n",
       "</div>"
      ],
      "text/plain": [
       "            ssc_p       hsc_p    degree_p     etest_p       mba_p  \\\n",
       "count  215.000000  215.000000  215.000000  215.000000  215.000000   \n",
       "mean    67.303395   66.333163   66.370186   72.100558   62.278186   \n",
       "std     10.827205   10.897509    7.358743   13.275956    5.833385   \n",
       "min     40.890000   37.000000   50.000000   50.000000   51.210000   \n",
       "25%     60.600000   60.900000   61.000000   60.000000   57.945000   \n",
       "50%     67.000000   65.000000   66.000000   71.000000   62.000000   \n",
       "75%     75.700000   73.000000   72.000000   83.500000   66.255000   \n",
       "max     89.400000   97.700000   91.000000   98.000000   77.890000   \n",
       "\n",
       "              salary  \n",
       "count     148.000000  \n",
       "mean   288655.405405  \n",
       "std     93457.452420  \n",
       "min    200000.000000  \n",
       "25%    240000.000000  \n",
       "50%    265000.000000  \n",
       "75%    300000.000000  \n",
       "max    940000.000000  "
      ]
     },
     "execution_count": 30,
     "metadata": {},
     "output_type": "execute_result"
    }
   ],
   "source": [
    "df.describe()"
   ]
  },
  {
   "cell_type": "code",
   "execution_count": 31,
   "id": "8fafa322",
   "metadata": {},
   "outputs": [
    {
     "data": {
      "text/plain": [
       "gender             0\n",
       "ssc_p              0\n",
       "ssc_b              0\n",
       "hsc_p              0\n",
       "hsc_b              0\n",
       "hsc_s              0\n",
       "degree_p           0\n",
       "degree_t           0\n",
       "workex             0\n",
       "etest_p            0\n",
       "specialisation     0\n",
       "mba_p              0\n",
       "status             0\n",
       "salary            67\n",
       "dtype: int64"
      ]
     },
     "execution_count": 31,
     "metadata": {},
     "output_type": "execute_result"
    }
   ],
   "source": [
    "df.isna().sum()"
   ]
  },
  {
   "cell_type": "markdown",
   "id": "2afdc514",
   "metadata": {},
   "source": [
    "### Filling Null Values"
   ]
  },
  {
   "cell_type": "code",
   "execution_count": 32,
   "id": "7199973e",
   "metadata": {},
   "outputs": [],
   "source": [
    "# Filling in the Null values with their median\n",
    "df[\"salary\"].fillna(value = 0,inplace = True)"
   ]
  },
  {
   "cell_type": "code",
   "execution_count": 33,
   "id": "1a9f690e",
   "metadata": {},
   "outputs": [
    {
     "data": {
      "text/plain": [
       "gender            0\n",
       "ssc_p             0\n",
       "ssc_b             0\n",
       "hsc_p             0\n",
       "hsc_b             0\n",
       "hsc_s             0\n",
       "degree_p          0\n",
       "degree_t          0\n",
       "workex            0\n",
       "etest_p           0\n",
       "specialisation    0\n",
       "mba_p             0\n",
       "status            0\n",
       "salary            0\n",
       "dtype: int64"
      ]
     },
     "execution_count": 33,
     "metadata": {},
     "output_type": "execute_result"
    }
   ],
   "source": [
    "# Checking whether their are other null values remaining\n",
    "df.isna().sum()"
   ]
  },
  {
   "cell_type": "markdown",
   "id": "07c3d103",
   "metadata": {},
   "source": [
    "### Categorical encoding"
   ]
  },
  {
   "cell_type": "code",
   "execution_count": null,
   "id": "17b9b578",
   "metadata": {},
   "outputs": [],
   "source": []
  },
  {
   "cell_type": "code",
   "execution_count": 34,
   "id": "1e802b10",
   "metadata": {},
   "outputs": [],
   "source": [
    "from sklearn.preprocessing import LabelEncoder\n",
    "\n",
    "# Instantiate it\n",
    "encode = LabelEncoder()"
   ]
  },
  {
   "cell_type": "code",
   "execution_count": 35,
   "id": "3056fc38",
   "metadata": {},
   "outputs": [],
   "source": [
    "mapping_dict = {}\n",
    "for i in list(df.columns):\n",
    "    if df[i].dtype == object:\n",
    "        df[i] = encode.fit_transform(df[i])\n",
    "        le_name_mapping = dict(zip(encode.classes_,\n",
    "                               encode.transform(encode.classes_)))\n",
    "        mapping_dict[i] = le_name_mapping"
   ]
  },
  {
   "cell_type": "code",
   "execution_count": 36,
   "id": "46dd3d64",
   "metadata": {},
   "outputs": [
    {
     "data": {
      "text/plain": [
       "{'gender': {'F': 0, 'M': 1},\n",
       " 'ssc_b': {'Central': 0, 'Others': 1},\n",
       " 'hsc_b': {'Central': 0, 'Others': 1},\n",
       " 'hsc_s': {'Arts': 0, 'Commerce': 1, 'Science': 2},\n",
       " 'degree_t': {'Comm&Mgmt': 0, 'Others': 1, 'Sci&Tech': 2},\n",
       " 'workex': {'No': 0, 'Yes': 1},\n",
       " 'specialisation': {'Mkt&Fin': 0, 'Mkt&HR': 1},\n",
       " 'status': {'Not Placed': 0, 'Placed': 1}}"
      ]
     },
     "execution_count": 36,
     "metadata": {},
     "output_type": "execute_result"
    }
   ],
   "source": [
    "mapping_dict"
   ]
  },
  {
   "cell_type": "code",
   "execution_count": 37,
   "id": "4c57045f",
   "metadata": {},
   "outputs": [
    {
     "data": {
      "text/plain": [
       "gender              int32\n",
       "ssc_p             float64\n",
       "ssc_b               int32\n",
       "hsc_p             float64\n",
       "hsc_b               int32\n",
       "hsc_s               int32\n",
       "degree_p          float64\n",
       "degree_t            int32\n",
       "workex              int32\n",
       "etest_p           float64\n",
       "specialisation      int32\n",
       "mba_p             float64\n",
       "status              int32\n",
       "salary            float64\n",
       "dtype: object"
      ]
     },
     "execution_count": 37,
     "metadata": {},
     "output_type": "execute_result"
    }
   ],
   "source": [
    "# Checking\n",
    "df.dtypes"
   ]
  },
  {
   "cell_type": "code",
   "execution_count": 38,
   "id": "b7dacdcb",
   "metadata": {},
   "outputs": [
    {
     "data": {
      "text/plain": [
       "(215, 14)"
      ]
     },
     "execution_count": 38,
     "metadata": {},
     "output_type": "execute_result"
    }
   ],
   "source": [
    "df.shape"
   ]
  },
  {
   "cell_type": "code",
   "execution_count": 39,
   "id": "832dfa49",
   "metadata": {},
   "outputs": [
    {
     "data": {
      "text/html": [
       "<div>\n",
       "<style scoped>\n",
       "    .dataframe tbody tr th:only-of-type {\n",
       "        vertical-align: middle;\n",
       "    }\n",
       "\n",
       "    .dataframe tbody tr th {\n",
       "        vertical-align: top;\n",
       "    }\n",
       "\n",
       "    .dataframe thead th {\n",
       "        text-align: right;\n",
       "    }\n",
       "</style>\n",
       "<table border=\"1\" class=\"dataframe\">\n",
       "  <thead>\n",
       "    <tr style=\"text-align: right;\">\n",
       "      <th></th>\n",
       "      <th>gender</th>\n",
       "      <th>ssc_p</th>\n",
       "      <th>ssc_b</th>\n",
       "      <th>hsc_p</th>\n",
       "      <th>hsc_b</th>\n",
       "      <th>hsc_s</th>\n",
       "      <th>degree_p</th>\n",
       "      <th>degree_t</th>\n",
       "      <th>workex</th>\n",
       "      <th>etest_p</th>\n",
       "      <th>specialisation</th>\n",
       "      <th>mba_p</th>\n",
       "      <th>status</th>\n",
       "      <th>salary</th>\n",
       "    </tr>\n",
       "  </thead>\n",
       "  <tbody>\n",
       "    <tr>\n",
       "      <th>0</th>\n",
       "      <td>1</td>\n",
       "      <td>67.00</td>\n",
       "      <td>1</td>\n",
       "      <td>91.00</td>\n",
       "      <td>1</td>\n",
       "      <td>1</td>\n",
       "      <td>58.00</td>\n",
       "      <td>2</td>\n",
       "      <td>0</td>\n",
       "      <td>55.0</td>\n",
       "      <td>1</td>\n",
       "      <td>58.80</td>\n",
       "      <td>1</td>\n",
       "      <td>270000.0</td>\n",
       "    </tr>\n",
       "    <tr>\n",
       "      <th>1</th>\n",
       "      <td>1</td>\n",
       "      <td>79.33</td>\n",
       "      <td>0</td>\n",
       "      <td>78.33</td>\n",
       "      <td>1</td>\n",
       "      <td>2</td>\n",
       "      <td>77.48</td>\n",
       "      <td>2</td>\n",
       "      <td>1</td>\n",
       "      <td>86.5</td>\n",
       "      <td>0</td>\n",
       "      <td>66.28</td>\n",
       "      <td>1</td>\n",
       "      <td>200000.0</td>\n",
       "    </tr>\n",
       "    <tr>\n",
       "      <th>2</th>\n",
       "      <td>1</td>\n",
       "      <td>65.00</td>\n",
       "      <td>0</td>\n",
       "      <td>68.00</td>\n",
       "      <td>0</td>\n",
       "      <td>0</td>\n",
       "      <td>64.00</td>\n",
       "      <td>0</td>\n",
       "      <td>0</td>\n",
       "      <td>75.0</td>\n",
       "      <td>0</td>\n",
       "      <td>57.80</td>\n",
       "      <td>1</td>\n",
       "      <td>250000.0</td>\n",
       "    </tr>\n",
       "    <tr>\n",
       "      <th>3</th>\n",
       "      <td>1</td>\n",
       "      <td>56.00</td>\n",
       "      <td>0</td>\n",
       "      <td>52.00</td>\n",
       "      <td>0</td>\n",
       "      <td>2</td>\n",
       "      <td>52.00</td>\n",
       "      <td>2</td>\n",
       "      <td>0</td>\n",
       "      <td>66.0</td>\n",
       "      <td>1</td>\n",
       "      <td>59.43</td>\n",
       "      <td>0</td>\n",
       "      <td>0.0</td>\n",
       "    </tr>\n",
       "    <tr>\n",
       "      <th>4</th>\n",
       "      <td>1</td>\n",
       "      <td>85.80</td>\n",
       "      <td>0</td>\n",
       "      <td>73.60</td>\n",
       "      <td>0</td>\n",
       "      <td>1</td>\n",
       "      <td>73.30</td>\n",
       "      <td>0</td>\n",
       "      <td>0</td>\n",
       "      <td>96.8</td>\n",
       "      <td>0</td>\n",
       "      <td>55.50</td>\n",
       "      <td>1</td>\n",
       "      <td>425000.0</td>\n",
       "    </tr>\n",
       "  </tbody>\n",
       "</table>\n",
       "</div>"
      ],
      "text/plain": [
       "   gender  ssc_p  ssc_b  hsc_p  hsc_b  hsc_s  degree_p  degree_t  workex  \\\n",
       "0       1  67.00      1  91.00      1      1     58.00         2       0   \n",
       "1       1  79.33      0  78.33      1      2     77.48         2       1   \n",
       "2       1  65.00      0  68.00      0      0     64.00         0       0   \n",
       "3       1  56.00      0  52.00      0      2     52.00         2       0   \n",
       "4       1  85.80      0  73.60      0      1     73.30         0       0   \n",
       "\n",
       "   etest_p  specialisation  mba_p  status    salary  \n",
       "0     55.0               1  58.80       1  270000.0  \n",
       "1     86.5               0  66.28       1  200000.0  \n",
       "2     75.0               0  57.80       1  250000.0  \n",
       "3     66.0               1  59.43       0       0.0  \n",
       "4     96.8               0  55.50       1  425000.0  "
      ]
     },
     "execution_count": 39,
     "metadata": {},
     "output_type": "execute_result"
    }
   ],
   "source": [
    "df.head()"
   ]
  },
  {
   "cell_type": "code",
   "execution_count": 40,
   "id": "7237e5a7",
   "metadata": {},
   "outputs": [],
   "source": [
    "# Splitting into X and y\n",
    "from sklearn.model_selection import train_test_split\n",
    "\n",
    "# Splitting into X and y\n",
    "X_placement = df.drop([\"status\",\"salary\"],axis = 1)\n",
    "y_placement = df[\"status\"]\n",
    "\n",
    "\n",
    "# Setting up the random seed\n",
    "np.random.seed(69)\n",
    "\n",
    "Xp_train , Xp_test , yp_train ,yp_test = train_test_split(X_placement,y_placement,test_size = 0.2)\n",
    "\n"
   ]
  },
  {
   "cell_type": "code",
   "execution_count": 41,
   "id": "b77ee023",
   "metadata": {},
   "outputs": [
    {
     "data": {
      "text/plain": [
       "(215, 12)"
      ]
     },
     "execution_count": 41,
     "metadata": {},
     "output_type": "execute_result"
    }
   ],
   "source": [
    "X_placement.shape"
   ]
  },
  {
   "cell_type": "code",
   "execution_count": 42,
   "id": "b364101f",
   "metadata": {},
   "outputs": [
    {
     "data": {
      "text/plain": [
       "(215, 215)"
      ]
     },
     "execution_count": 42,
     "metadata": {},
     "output_type": "execute_result"
    }
   ],
   "source": [
    "len(X_placement),len(y_placement)"
   ]
  },
  {
   "cell_type": "code",
   "execution_count": null,
   "id": "ca3b7e71",
   "metadata": {},
   "outputs": [],
   "source": []
  },
  {
   "cell_type": "code",
   "execution_count": null,
   "id": "93997679",
   "metadata": {},
   "outputs": [],
   "source": []
  },
  {
   "cell_type": "code",
   "execution_count": 43,
   "id": "859f659c",
   "metadata": {},
   "outputs": [
    {
     "data": {
      "text/plain": [
       "(172, 43, 172, 43)"
      ]
     },
     "execution_count": 43,
     "metadata": {},
     "output_type": "execute_result"
    }
   ],
   "source": [
    "len(Xp_train),len(Xp_test),len(yp_train),len(yp_test)"
   ]
  },
  {
   "cell_type": "markdown",
   "id": "faf48fba",
   "metadata": {},
   "source": [
    "## Modelling"
   ]
  },
  {
   "cell_type": "code",
   "execution_count": 44,
   "id": "7d2331b0",
   "metadata": {},
   "outputs": [],
   "source": [
    "from sklearn.ensemble import RandomForestClassifier"
   ]
  },
  {
   "cell_type": "code",
   "execution_count": 45,
   "id": "51b1b26a",
   "metadata": {},
   "outputs": [
    {
     "data": {
      "text/html": [
       "<div>\n",
       "<style scoped>\n",
       "    .dataframe tbody tr th:only-of-type {\n",
       "        vertical-align: middle;\n",
       "    }\n",
       "\n",
       "    .dataframe tbody tr th {\n",
       "        vertical-align: top;\n",
       "    }\n",
       "\n",
       "    .dataframe thead th {\n",
       "        text-align: right;\n",
       "    }\n",
       "</style>\n",
       "<table border=\"1\" class=\"dataframe\">\n",
       "  <thead>\n",
       "    <tr style=\"text-align: right;\">\n",
       "      <th></th>\n",
       "      <th>gender</th>\n",
       "      <th>ssc_p</th>\n",
       "      <th>ssc_b</th>\n",
       "      <th>hsc_p</th>\n",
       "      <th>hsc_b</th>\n",
       "      <th>hsc_s</th>\n",
       "      <th>degree_p</th>\n",
       "      <th>degree_t</th>\n",
       "      <th>workex</th>\n",
       "      <th>etest_p</th>\n",
       "      <th>specialisation</th>\n",
       "      <th>mba_p</th>\n",
       "    </tr>\n",
       "  </thead>\n",
       "  <tbody>\n",
       "    <tr>\n",
       "      <th>102</th>\n",
       "      <td>0</td>\n",
       "      <td>77.00</td>\n",
       "      <td>1</td>\n",
       "      <td>61.00</td>\n",
       "      <td>1</td>\n",
       "      <td>1</td>\n",
       "      <td>68.00</td>\n",
       "      <td>0</td>\n",
       "      <td>1</td>\n",
       "      <td>57.50</td>\n",
       "      <td>0</td>\n",
       "      <td>61.31</td>\n",
       "    </tr>\n",
       "    <tr>\n",
       "      <th>1</th>\n",
       "      <td>1</td>\n",
       "      <td>79.33</td>\n",
       "      <td>0</td>\n",
       "      <td>78.33</td>\n",
       "      <td>1</td>\n",
       "      <td>2</td>\n",
       "      <td>77.48</td>\n",
       "      <td>2</td>\n",
       "      <td>1</td>\n",
       "      <td>86.50</td>\n",
       "      <td>0</td>\n",
       "      <td>66.28</td>\n",
       "    </tr>\n",
       "    <tr>\n",
       "      <th>130</th>\n",
       "      <td>1</td>\n",
       "      <td>62.00</td>\n",
       "      <td>0</td>\n",
       "      <td>65.00</td>\n",
       "      <td>1</td>\n",
       "      <td>1</td>\n",
       "      <td>60.00</td>\n",
       "      <td>0</td>\n",
       "      <td>0</td>\n",
       "      <td>84.00</td>\n",
       "      <td>0</td>\n",
       "      <td>64.15</td>\n",
       "    </tr>\n",
       "    <tr>\n",
       "      <th>135</th>\n",
       "      <td>0</td>\n",
       "      <td>72.00</td>\n",
       "      <td>0</td>\n",
       "      <td>56.00</td>\n",
       "      <td>1</td>\n",
       "      <td>2</td>\n",
       "      <td>69.00</td>\n",
       "      <td>0</td>\n",
       "      <td>0</td>\n",
       "      <td>55.60</td>\n",
       "      <td>1</td>\n",
       "      <td>65.63</td>\n",
       "    </tr>\n",
       "    <tr>\n",
       "      <th>189</th>\n",
       "      <td>0</td>\n",
       "      <td>54.00</td>\n",
       "      <td>0</td>\n",
       "      <td>77.60</td>\n",
       "      <td>1</td>\n",
       "      <td>1</td>\n",
       "      <td>69.20</td>\n",
       "      <td>0</td>\n",
       "      <td>0</td>\n",
       "      <td>95.65</td>\n",
       "      <td>0</td>\n",
       "      <td>66.94</td>\n",
       "    </tr>\n",
       "    <tr>\n",
       "      <th>...</th>\n",
       "      <td>...</td>\n",
       "      <td>...</td>\n",
       "      <td>...</td>\n",
       "      <td>...</td>\n",
       "      <td>...</td>\n",
       "      <td>...</td>\n",
       "      <td>...</td>\n",
       "      <td>...</td>\n",
       "      <td>...</td>\n",
       "      <td>...</td>\n",
       "      <td>...</td>\n",
       "      <td>...</td>\n",
       "    </tr>\n",
       "    <tr>\n",
       "      <th>90</th>\n",
       "      <td>0</td>\n",
       "      <td>85.00</td>\n",
       "      <td>1</td>\n",
       "      <td>90.00</td>\n",
       "      <td>1</td>\n",
       "      <td>1</td>\n",
       "      <td>82.00</td>\n",
       "      <td>0</td>\n",
       "      <td>0</td>\n",
       "      <td>92.00</td>\n",
       "      <td>0</td>\n",
       "      <td>68.03</td>\n",
       "    </tr>\n",
       "    <tr>\n",
       "      <th>107</th>\n",
       "      <td>1</td>\n",
       "      <td>82.00</td>\n",
       "      <td>1</td>\n",
       "      <td>90.00</td>\n",
       "      <td>1</td>\n",
       "      <td>1</td>\n",
       "      <td>83.00</td>\n",
       "      <td>0</td>\n",
       "      <td>0</td>\n",
       "      <td>80.00</td>\n",
       "      <td>1</td>\n",
       "      <td>73.52</td>\n",
       "    </tr>\n",
       "    <tr>\n",
       "      <th>201</th>\n",
       "      <td>1</td>\n",
       "      <td>54.20</td>\n",
       "      <td>0</td>\n",
       "      <td>63.00</td>\n",
       "      <td>1</td>\n",
       "      <td>2</td>\n",
       "      <td>58.00</td>\n",
       "      <td>0</td>\n",
       "      <td>0</td>\n",
       "      <td>79.00</td>\n",
       "      <td>1</td>\n",
       "      <td>58.44</td>\n",
       "    </tr>\n",
       "    <tr>\n",
       "      <th>203</th>\n",
       "      <td>1</td>\n",
       "      <td>55.68</td>\n",
       "      <td>1</td>\n",
       "      <td>61.33</td>\n",
       "      <td>1</td>\n",
       "      <td>1</td>\n",
       "      <td>56.87</td>\n",
       "      <td>0</td>\n",
       "      <td>0</td>\n",
       "      <td>66.00</td>\n",
       "      <td>1</td>\n",
       "      <td>58.30</td>\n",
       "    </tr>\n",
       "    <tr>\n",
       "      <th>54</th>\n",
       "      <td>0</td>\n",
       "      <td>74.00</td>\n",
       "      <td>0</td>\n",
       "      <td>60.00</td>\n",
       "      <td>1</td>\n",
       "      <td>2</td>\n",
       "      <td>69.00</td>\n",
       "      <td>0</td>\n",
       "      <td>0</td>\n",
       "      <td>78.00</td>\n",
       "      <td>1</td>\n",
       "      <td>65.56</td>\n",
       "    </tr>\n",
       "  </tbody>\n",
       "</table>\n",
       "<p>172 rows × 12 columns</p>\n",
       "</div>"
      ],
      "text/plain": [
       "     gender  ssc_p  ssc_b  hsc_p  hsc_b  hsc_s  degree_p  degree_t  workex  \\\n",
       "102       0  77.00      1  61.00      1      1     68.00         0       1   \n",
       "1         1  79.33      0  78.33      1      2     77.48         2       1   \n",
       "130       1  62.00      0  65.00      1      1     60.00         0       0   \n",
       "135       0  72.00      0  56.00      1      2     69.00         0       0   \n",
       "189       0  54.00      0  77.60      1      1     69.20         0       0   \n",
       "..      ...    ...    ...    ...    ...    ...       ...       ...     ...   \n",
       "90        0  85.00      1  90.00      1      1     82.00         0       0   \n",
       "107       1  82.00      1  90.00      1      1     83.00         0       0   \n",
       "201       1  54.20      0  63.00      1      2     58.00         0       0   \n",
       "203       1  55.68      1  61.33      1      1     56.87         0       0   \n",
       "54        0  74.00      0  60.00      1      2     69.00         0       0   \n",
       "\n",
       "     etest_p  specialisation  mba_p  \n",
       "102    57.50               0  61.31  \n",
       "1      86.50               0  66.28  \n",
       "130    84.00               0  64.15  \n",
       "135    55.60               1  65.63  \n",
       "189    95.65               0  66.94  \n",
       "..       ...             ...    ...  \n",
       "90     92.00               0  68.03  \n",
       "107    80.00               1  73.52  \n",
       "201    79.00               1  58.44  \n",
       "203    66.00               1  58.30  \n",
       "54     78.00               1  65.56  \n",
       "\n",
       "[172 rows x 12 columns]"
      ]
     },
     "execution_count": 45,
     "metadata": {},
     "output_type": "execute_result"
    }
   ],
   "source": [
    "Xp_train"
   ]
  },
  {
   "cell_type": "code",
   "execution_count": 46,
   "id": "2d4f2bd2",
   "metadata": {},
   "outputs": [
    {
     "data": {
      "text/plain": [
       "RandomForestClassifier()"
      ]
     },
     "execution_count": 46,
     "metadata": {},
     "output_type": "execute_result"
    }
   ],
   "source": [
    "# Instantiate the model\n",
    "clf = RandomForestClassifier()\n",
    "\n",
    "# Fit the model\n",
    "clf.fit(Xp_train,yp_train)"
   ]
  },
  {
   "cell_type": "code",
   "execution_count": 47,
   "id": "14230f03",
   "metadata": {},
   "outputs": [
    {
     "data": {
      "text/plain": [
       "0.9534883720930233"
      ]
     },
     "execution_count": 47,
     "metadata": {},
     "output_type": "execute_result"
    }
   ],
   "source": [
    "clf.score(Xp_test,yp_test)"
   ]
  },
  {
   "cell_type": "code",
   "execution_count": 48,
   "id": "e0323957",
   "metadata": {},
   "outputs": [
    {
     "data": {
      "text/html": [
       "<div>\n",
       "<style scoped>\n",
       "    .dataframe tbody tr th:only-of-type {\n",
       "        vertical-align: middle;\n",
       "    }\n",
       "\n",
       "    .dataframe tbody tr th {\n",
       "        vertical-align: top;\n",
       "    }\n",
       "\n",
       "    .dataframe thead th {\n",
       "        text-align: right;\n",
       "    }\n",
       "</style>\n",
       "<table border=\"1\" class=\"dataframe\">\n",
       "  <thead>\n",
       "    <tr style=\"text-align: right;\">\n",
       "      <th></th>\n",
       "      <th>gender</th>\n",
       "      <th>ssc_p</th>\n",
       "      <th>ssc_b</th>\n",
       "      <th>hsc_p</th>\n",
       "      <th>hsc_b</th>\n",
       "      <th>hsc_s</th>\n",
       "      <th>degree_p</th>\n",
       "      <th>degree_t</th>\n",
       "      <th>workex</th>\n",
       "      <th>etest_p</th>\n",
       "      <th>specialisation</th>\n",
       "      <th>mba_p</th>\n",
       "    </tr>\n",
       "  </thead>\n",
       "  <tbody>\n",
       "    <tr>\n",
       "      <th>185</th>\n",
       "      <td>0</td>\n",
       "      <td>88.0</td>\n",
       "      <td>0</td>\n",
       "      <td>72.0</td>\n",
       "      <td>0</td>\n",
       "      <td>2</td>\n",
       "      <td>78.00</td>\n",
       "      <td>1</td>\n",
       "      <td>0</td>\n",
       "      <td>82.0</td>\n",
       "      <td>1</td>\n",
       "      <td>71.43</td>\n",
       "    </tr>\n",
       "    <tr>\n",
       "      <th>162</th>\n",
       "      <td>1</td>\n",
       "      <td>74.2</td>\n",
       "      <td>0</td>\n",
       "      <td>87.6</td>\n",
       "      <td>1</td>\n",
       "      <td>1</td>\n",
       "      <td>77.25</td>\n",
       "      <td>0</td>\n",
       "      <td>1</td>\n",
       "      <td>75.2</td>\n",
       "      <td>0</td>\n",
       "      <td>66.06</td>\n",
       "    </tr>\n",
       "    <tr>\n",
       "      <th>191</th>\n",
       "      <td>1</td>\n",
       "      <td>67.0</td>\n",
       "      <td>1</td>\n",
       "      <td>61.0</td>\n",
       "      <td>0</td>\n",
       "      <td>2</td>\n",
       "      <td>72.00</td>\n",
       "      <td>0</td>\n",
       "      <td>0</td>\n",
       "      <td>72.0</td>\n",
       "      <td>0</td>\n",
       "      <td>61.01</td>\n",
       "    </tr>\n",
       "    <tr>\n",
       "      <th>101</th>\n",
       "      <td>1</td>\n",
       "      <td>63.0</td>\n",
       "      <td>0</td>\n",
       "      <td>72.0</td>\n",
       "      <td>0</td>\n",
       "      <td>1</td>\n",
       "      <td>68.00</td>\n",
       "      <td>0</td>\n",
       "      <td>0</td>\n",
       "      <td>78.0</td>\n",
       "      <td>1</td>\n",
       "      <td>60.44</td>\n",
       "    </tr>\n",
       "    <tr>\n",
       "      <th>36</th>\n",
       "      <td>1</td>\n",
       "      <td>51.0</td>\n",
       "      <td>0</td>\n",
       "      <td>44.0</td>\n",
       "      <td>0</td>\n",
       "      <td>1</td>\n",
       "      <td>57.00</td>\n",
       "      <td>0</td>\n",
       "      <td>0</td>\n",
       "      <td>64.0</td>\n",
       "      <td>0</td>\n",
       "      <td>51.45</td>\n",
       "    </tr>\n",
       "    <tr>\n",
       "      <th>31</th>\n",
       "      <td>0</td>\n",
       "      <td>67.0</td>\n",
       "      <td>0</td>\n",
       "      <td>53.0</td>\n",
       "      <td>0</td>\n",
       "      <td>2</td>\n",
       "      <td>65.00</td>\n",
       "      <td>2</td>\n",
       "      <td>0</td>\n",
       "      <td>64.0</td>\n",
       "      <td>1</td>\n",
       "      <td>58.32</td>\n",
       "    </tr>\n",
       "  </tbody>\n",
       "</table>\n",
       "</div>"
      ],
      "text/plain": [
       "     gender  ssc_p  ssc_b  hsc_p  hsc_b  hsc_s  degree_p  degree_t  workex  \\\n",
       "185       0   88.0      0   72.0      0      2     78.00         1       0   \n",
       "162       1   74.2      0   87.6      1      1     77.25         0       1   \n",
       "191       1   67.0      1   61.0      0      2     72.00         0       0   \n",
       "101       1   63.0      0   72.0      0      1     68.00         0       0   \n",
       "36        1   51.0      0   44.0      0      1     57.00         0       0   \n",
       "31        0   67.0      0   53.0      0      2     65.00         2       0   \n",
       "\n",
       "     etest_p  specialisation  mba_p  \n",
       "185     82.0               1  71.43  \n",
       "162     75.2               0  66.06  \n",
       "191     72.0               0  61.01  \n",
       "101     78.0               1  60.44  \n",
       "36      64.0               0  51.45  \n",
       "31      64.0               1  58.32  "
      ]
     },
     "execution_count": 48,
     "metadata": {},
     "output_type": "execute_result"
    }
   ],
   "source": [
    "Xp_test[:6]"
   ]
  },
  {
   "cell_type": "code",
   "execution_count": 49,
   "id": "80bdcf26",
   "metadata": {},
   "outputs": [
    {
     "data": {
      "text/plain": [
       "array([1, 1, 1, 1, 0, 1, 1, 1, 1, 1])"
      ]
     },
     "execution_count": 49,
     "metadata": {},
     "output_type": "execute_result"
    }
   ],
   "source": [
    "# Making predictions\n",
    "yp_preds = clf.predict(Xp_test)\n",
    "yp_preds[:10]"
   ]
  },
  {
   "cell_type": "code",
   "execution_count": 50,
   "id": "19e991f6",
   "metadata": {},
   "outputs": [
    {
     "data": {
      "text/plain": [
       "43"
      ]
     },
     "execution_count": 50,
     "metadata": {},
     "output_type": "execute_result"
    }
   ],
   "source": [
    "len(yp_preds)"
   ]
  },
  {
   "cell_type": "code",
   "execution_count": 51,
   "id": "cbd4022f",
   "metadata": {},
   "outputs": [],
   "source": [
    "from sklearn.metrics import confusion_matrix"
   ]
  },
  {
   "cell_type": "code",
   "execution_count": 52,
   "id": "8a5c1c5a",
   "metadata": {},
   "outputs": [
    {
     "data": {
      "text/plain": [
       "array([[ 8,  1],\n",
       "       [ 1, 33]], dtype=int64)"
      ]
     },
     "execution_count": 52,
     "metadata": {},
     "output_type": "execute_result"
    }
   ],
   "source": [
    "confusion_matrix(yp_test,yp_preds)"
   ]
  },
  {
   "cell_type": "code",
   "execution_count": 53,
   "id": "2cd3790a",
   "metadata": {},
   "outputs": [
    {
     "data": {
      "image/png": "[encoded data removed]",
      "text/plain": [
       "<Figure size 720x432 with 2 Axes>"
      ]
     },
     "metadata": {},
     "output_type": "display_data"
    }
   ],
   "source": [
    "# Plot the confusion matrix \n",
    "sns.set(font_scale = 1.5)\n",
    "\n",
    "def plot_conf_mat(y_test , y_preds):\n",
    "    \"\"\"\n",
    "    This fucntion plot the confusion matrix using seaborn's heatmap().\n",
    "    \"\"\"\n",
    "    fig , ax= plt.subplots(figsize= (10,6))\n",
    "    ax = sns.heatmap(confusion_matrix(y_test,y_preds),\n",
    "                    annot=True,\n",
    "                    cbar=True)\n",
    "    plt.xlabel(\"predicted lebel\")\n",
    "    plt.ylabel(\"true label\")\n",
    "    \n",
    "plot_conf_mat(yp_test,yp_preds)"
   ]
  },
  {
   "cell_type": "markdown",
   "id": "32d757f8",
   "metadata": {},
   "source": [
    "## Evalaution"
   ]
  },
  {
   "cell_type": "code",
   "execution_count": 54,
   "id": "f4cf940a",
   "metadata": {},
   "outputs": [],
   "source": [
    "from sklearn.metrics import accuracy_score,precision_score,f1_score,recall_score,classification_report\n",
    "accuracy = accuracy_score(yp_test,yp_preds)\n",
    "precision = precision_score(yp_test,yp_preds)\n",
    "f1 = f1_score(yp_test,yp_preds)\n",
    "recall = recall_score(yp_test,yp_preds)"
   ]
  },
  {
   "cell_type": "code",
   "execution_count": 55,
   "id": "8648f846",
   "metadata": {},
   "outputs": [
    {
     "data": {
      "text/plain": [
       "(0.9534883720930233,\n",
       " 0.9705882352941176,\n",
       " 0.9705882352941176,\n",
       " 0.9705882352941176)"
      ]
     },
     "execution_count": 55,
     "metadata": {},
     "output_type": "execute_result"
    }
   ],
   "source": [
    "accuracy,precision,f1,recall"
   ]
  },
  {
   "cell_type": "code",
   "execution_count": 56,
   "id": "84c8bb8a",
   "metadata": {},
   "outputs": [
    {
     "name": "stdout",
     "output_type": "stream",
     "text": [
      "              precision    recall  f1-score   support\n",
      "\n",
      "           0       0.89      0.89      0.89         9\n",
      "           1       0.97      0.97      0.97        34\n",
      "\n",
      "    accuracy                           0.95        43\n",
      "   macro avg       0.93      0.93      0.93        43\n",
      "weighted avg       0.95      0.95      0.95        43\n",
      "\n"
     ]
    }
   ],
   "source": [
    "print(classification_report(yp_test,yp_preds))"
   ]
  },
  {
   "cell_type": "code",
   "execution_count": 57,
   "id": "06d2ca3a",
   "metadata": {},
   "outputs": [
    {
     "data": {
      "text/plain": [
       "{'Accuracy': 0.9534883720930233,\n",
       " 'Precision': 0.9705882352941176,\n",
       " 'F1': 0.9705882352941176,\n",
       " 'Recall': 0.9705882352941176}"
      ]
     },
     "execution_count": 57,
     "metadata": {},
     "output_type": "execute_result"
    }
   ],
   "source": [
    "eval_dict = {\"Accuracy\":accuracy,\n",
    "            \"Precision\":precision,\n",
    "            \"F1\":f1,\n",
    "            \"Recall\":recall}\n",
    "eval_dict"
   ]
  },
  {
   "cell_type": "code",
   "execution_count": 58,
   "id": "5b7f70d3",
   "metadata": {},
   "outputs": [],
   "source": [
    "# Making a dataframe of the evaluation metric\n",
    "eval_df = pd.DataFrame(eval_dict,\n",
    "                      index = [\"PERFORMANC\"])"
   ]
  },
  {
   "cell_type": "code",
   "execution_count": 59,
   "id": "0f6f1598",
   "metadata": {},
   "outputs": [
    {
     "data": {
      "text/html": [
       "<div>\n",
       "<style scoped>\n",
       "    .dataframe tbody tr th:only-of-type {\n",
       "        vertical-align: middle;\n",
       "    }\n",
       "\n",
       "    .dataframe tbody tr th {\n",
       "        vertical-align: top;\n",
       "    }\n",
       "\n",
       "    .dataframe thead th {\n",
       "        text-align: right;\n",
       "    }\n",
       "</style>\n",
       "<table border=\"1\" class=\"dataframe\">\n",
       "  <thead>\n",
       "    <tr style=\"text-align: right;\">\n",
       "      <th></th>\n",
       "      <th>Accuracy</th>\n",
       "      <th>Precision</th>\n",
       "      <th>F1</th>\n",
       "      <th>Recall</th>\n",
       "    </tr>\n",
       "  </thead>\n",
       "  <tbody>\n",
       "    <tr>\n",
       "      <th>PERFORMANC</th>\n",
       "      <td>0.953488</td>\n",
       "      <td>0.970588</td>\n",
       "      <td>0.970588</td>\n",
       "      <td>0.970588</td>\n",
       "    </tr>\n",
       "  </tbody>\n",
       "</table>\n",
       "</div>"
      ],
      "text/plain": [
       "            Accuracy  Precision        F1    Recall\n",
       "PERFORMANC  0.953488   0.970588  0.970588  0.970588"
      ]
     },
     "execution_count": 59,
     "metadata": {},
     "output_type": "execute_result"
    }
   ],
   "source": [
    "eval_df"
   ]
  },
  {
   "cell_type": "code",
   "execution_count": 60,
   "id": "52df9692",
   "metadata": {},
   "outputs": [
    {
     "data": {
      "image/png": "[encoded data removed]",
      "text/plain": [
       "<Figure size 432x288 with 1 Axes>"
      ]
     },
     "metadata": {},
     "output_type": "display_data"
    }
   ],
   "source": [
    "eval_df.plot(kind = \"bar\")\n",
    "plt.legend(bbox_to_anchor = (1.29,1))\n",
    "plt.xticks(rotation = 0);"
   ]
  },
  {
   "cell_type": "markdown",
   "id": "ec288e94",
   "metadata": {},
   "source": [
    "## Feature Importance"
   ]
  },
  {
   "cell_type": "code",
   "execution_count": 61,
   "id": "928f2bb7",
   "metadata": {},
   "outputs": [
    {
     "data": {
      "text/plain": [
       "array([0.02213224, 0.29692263, 0.02344376, 0.16857823, 0.01423369,\n",
       "       0.01794037, 0.17434686, 0.01818765, 0.0427004 , 0.08024642,\n",
       "       0.02404074, 0.11722701])"
      ]
     },
     "execution_count": 61,
     "metadata": {},
     "output_type": "execute_result"
    }
   ],
   "source": [
    "clf.feature_importances_"
   ]
  },
  {
   "cell_type": "code",
   "execution_count": 62,
   "id": "fcf463af",
   "metadata": {},
   "outputs": [],
   "source": [
    "# Making a dataframe of the Feature Importances\n",
    "feature_df = pd.DataFrame({\"Values\":clf.feature_importances_},\n",
    "                         index = Xp_train.columns)"
   ]
  },
  {
   "cell_type": "code",
   "execution_count": 63,
   "id": "d84f183f",
   "metadata": {},
   "outputs": [],
   "source": [
    "feature_df.sort_values(\"Values\",ascending = True,inplace = True)"
   ]
  },
  {
   "cell_type": "code",
   "execution_count": 64,
   "id": "3b1ac4a4",
   "metadata": {},
   "outputs": [
    {
     "data": {
      "image/png": "[encoded data removed]",
      "text/plain": [
       "<Figure size 432x288 with 1 Axes>"
      ]
     },
     "metadata": {},
     "output_type": "display_data"
    }
   ],
   "source": [
    "feature_df.plot(kind = \"barh\",title = \"Feature Importance\",legend = False);\n"
   ]
  },
  {
   "cell_type": "code",
   "execution_count": 65,
   "id": "5331ac22",
   "metadata": {},
   "outputs": [],
   "source": [
    "# Save the model\n",
    "import pickle\n",
    "# pickle.dump(clf,open(\"Placement_predictio.pkl\",'wb'))"
   ]
  },
  {
   "cell_type": "code",
   "execution_count": 66,
   "id": "7b84d492",
   "metadata": {},
   "outputs": [],
   "source": [
    "# Load the model and test\n",
    "loaded_model = pickle.load(open(\"Placement_predictio.pkl\",\"rb\"))"
   ]
  },
  {
   "cell_type": "code",
   "execution_count": 67,
   "id": "3f0a469c",
   "metadata": {},
   "outputs": [
    {
     "data": {
      "text/plain": [
       "0.9534883720930233"
      ]
     },
     "execution_count": 67,
     "metadata": {},
     "output_type": "execute_result"
    }
   ],
   "source": [
    "loaded_model.score(Xp_test,yp_test)"
   ]
  },
  {
   "cell_type": "code",
   "execution_count": 68,
   "id": "2b352376",
   "metadata": {},
   "outputs": [],
   "source": [
    "a=[1,2]"
   ]
  },
  {
   "cell_type": "code",
   "execution_count": 69,
   "id": "d87e4142",
   "metadata": {},
   "outputs": [
    {
     "data": {
      "text/plain": [
       "array([[1, 2]])"
      ]
     },
     "execution_count": 69,
     "metadata": {},
     "output_type": "execute_result"
    }
   ],
   "source": [
    "np.reshape(a,(1,2))"
   ]
  },
  {
   "cell_type": "code",
   "execution_count": 70,
   "id": "6002d450",
   "metadata": {},
   "outputs": [
    {
     "name": "stdout",
     "output_type": "stream",
     "text": [
      "0\n"
     ]
    }
   ],
   "source": [
    "print(int(loaded_model.predict([[1,51.,0,44,0,1,57.,0,0,64.,0,51.32]])))"
   ]
  },
  {
   "cell_type": "markdown",
   "id": "783c899a",
   "metadata": {},
   "source": [
    "## Modelling for Predicting the salary"
   ]
  },
  {
   "cell_type": "markdown",
   "id": "226e465b",
   "metadata": {},
   "source": [
    "### Making up the dataset for the salary prediction"
   ]
  },
  {
   "cell_type": "code",
   "execution_count": 71,
   "id": "9b727add",
   "metadata": {},
   "outputs": [
    {
     "data": {
      "text/plain": [
       "gender            0\n",
       "ssc_p             0\n",
       "ssc_b             0\n",
       "hsc_p             0\n",
       "hsc_b             0\n",
       "hsc_s             0\n",
       "degree_p          0\n",
       "degree_t          0\n",
       "workex            0\n",
       "etest_p           0\n",
       "specialisation    0\n",
       "mba_p             0\n",
       "status            0\n",
       "salary            0\n",
       "dtype: int64"
      ]
     },
     "execution_count": 71,
     "metadata": {},
     "output_type": "execute_result"
    }
   ],
   "source": [
    "df.isna().sum()"
   ]
  },
  {
   "cell_type": "code",
   "execution_count": 72,
   "id": "9ae3b915",
   "metadata": {},
   "outputs": [],
   "source": [
    "X = df.drop(\"salary\",axis = 1)\n",
    "y = df[\"salary\"]"
   ]
  },
  {
   "cell_type": "code",
   "execution_count": 73,
   "id": "9f7b6610",
   "metadata": {},
   "outputs": [
    {
     "data": {
      "text/html": [
       "<div>\n",
       "<style scoped>\n",
       "    .dataframe tbody tr th:only-of-type {\n",
       "        vertical-align: middle;\n",
       "    }\n",
       "\n",
       "    .dataframe tbody tr th {\n",
       "        vertical-align: top;\n",
       "    }\n",
       "\n",
       "    .dataframe thead th {\n",
       "        text-align: right;\n",
       "    }\n",
       "</style>\n",
       "<table border=\"1\" class=\"dataframe\">\n",
       "  <thead>\n",
       "    <tr style=\"text-align: right;\">\n",
       "      <th></th>\n",
       "      <th>gender</th>\n",
       "      <th>ssc_p</th>\n",
       "      <th>ssc_b</th>\n",
       "      <th>hsc_p</th>\n",
       "      <th>hsc_b</th>\n",
       "      <th>hsc_s</th>\n",
       "      <th>degree_p</th>\n",
       "      <th>degree_t</th>\n",
       "      <th>workex</th>\n",
       "      <th>etest_p</th>\n",
       "      <th>specialisation</th>\n",
       "      <th>mba_p</th>\n",
       "      <th>status</th>\n",
       "    </tr>\n",
       "  </thead>\n",
       "  <tbody>\n",
       "    <tr>\n",
       "      <th>0</th>\n",
       "      <td>1</td>\n",
       "      <td>67.00</td>\n",
       "      <td>1</td>\n",
       "      <td>91.00</td>\n",
       "      <td>1</td>\n",
       "      <td>1</td>\n",
       "      <td>58.00</td>\n",
       "      <td>2</td>\n",
       "      <td>0</td>\n",
       "      <td>55.0</td>\n",
       "      <td>1</td>\n",
       "      <td>58.80</td>\n",
       "      <td>1</td>\n",
       "    </tr>\n",
       "    <tr>\n",
       "      <th>1</th>\n",
       "      <td>1</td>\n",
       "      <td>79.33</td>\n",
       "      <td>0</td>\n",
       "      <td>78.33</td>\n",
       "      <td>1</td>\n",
       "      <td>2</td>\n",
       "      <td>77.48</td>\n",
       "      <td>2</td>\n",
       "      <td>1</td>\n",
       "      <td>86.5</td>\n",
       "      <td>0</td>\n",
       "      <td>66.28</td>\n",
       "      <td>1</td>\n",
       "    </tr>\n",
       "    <tr>\n",
       "      <th>2</th>\n",
       "      <td>1</td>\n",
       "      <td>65.00</td>\n",
       "      <td>0</td>\n",
       "      <td>68.00</td>\n",
       "      <td>0</td>\n",
       "      <td>0</td>\n",
       "      <td>64.00</td>\n",
       "      <td>0</td>\n",
       "      <td>0</td>\n",
       "      <td>75.0</td>\n",
       "      <td>0</td>\n",
       "      <td>57.80</td>\n",
       "      <td>1</td>\n",
       "    </tr>\n",
       "    <tr>\n",
       "      <th>3</th>\n",
       "      <td>1</td>\n",
       "      <td>56.00</td>\n",
       "      <td>0</td>\n",
       "      <td>52.00</td>\n",
       "      <td>0</td>\n",
       "      <td>2</td>\n",
       "      <td>52.00</td>\n",
       "      <td>2</td>\n",
       "      <td>0</td>\n",
       "      <td>66.0</td>\n",
       "      <td>1</td>\n",
       "      <td>59.43</td>\n",
       "      <td>0</td>\n",
       "    </tr>\n",
       "    <tr>\n",
       "      <th>4</th>\n",
       "      <td>1</td>\n",
       "      <td>85.80</td>\n",
       "      <td>0</td>\n",
       "      <td>73.60</td>\n",
       "      <td>0</td>\n",
       "      <td>1</td>\n",
       "      <td>73.30</td>\n",
       "      <td>0</td>\n",
       "      <td>0</td>\n",
       "      <td>96.8</td>\n",
       "      <td>0</td>\n",
       "      <td>55.50</td>\n",
       "      <td>1</td>\n",
       "    </tr>\n",
       "  </tbody>\n",
       "</table>\n",
       "</div>"
      ],
      "text/plain": [
       "   gender  ssc_p  ssc_b  hsc_p  hsc_b  hsc_s  degree_p  degree_t  workex  \\\n",
       "0       1  67.00      1  91.00      1      1     58.00         2       0   \n",
       "1       1  79.33      0  78.33      1      2     77.48         2       1   \n",
       "2       1  65.00      0  68.00      0      0     64.00         0       0   \n",
       "3       1  56.00      0  52.00      0      2     52.00         2       0   \n",
       "4       1  85.80      0  73.60      0      1     73.30         0       0   \n",
       "\n",
       "   etest_p  specialisation  mba_p  status  \n",
       "0     55.0               1  58.80       1  \n",
       "1     86.5               0  66.28       1  \n",
       "2     75.0               0  57.80       1  \n",
       "3     66.0               1  59.43       0  \n",
       "4     96.8               0  55.50       1  "
      ]
     },
     "execution_count": 73,
     "metadata": {},
     "output_type": "execute_result"
    }
   ],
   "source": [
    "X.head()"
   ]
  },
  {
   "cell_type": "code",
   "execution_count": 74,
   "id": "51da6b48",
   "metadata": {},
   "outputs": [
    {
     "data": {
      "text/plain": [
       "(172, 172, 43, 43)"
      ]
     },
     "execution_count": 74,
     "metadata": {},
     "output_type": "execute_result"
    }
   ],
   "source": [
    "# Splitting into train and test datasets\n",
    "# Setting up the random seed\n",
    "np.random.seed(42)\n",
    "\n",
    "X_train , X_test , y_train , y_test = train_test_split(X,y,test_size = 0.2)\n",
    "len(X_train),len(y_train),len(X_test),len(y_test)"
   ]
  },
  {
   "cell_type": "code",
   "execution_count": 75,
   "id": "b150ec32",
   "metadata": {},
   "outputs": [],
   "source": [
    "from sklearn.ensemble import RandomForestRegressor\n",
    "\n",
    "# Instantiate the regressor\n",
    "model = RandomForestRegressor()"
   ]
  },
  {
   "cell_type": "code",
   "execution_count": 76,
   "id": "26698b78",
   "metadata": {},
   "outputs": [
    {
     "data": {
      "text/plain": [
       "RandomForestRegressor()"
      ]
     },
     "execution_count": 76,
     "metadata": {},
     "output_type": "execute_result"
    }
   ],
   "source": [
    "# Fit the model\n",
    "model.fit(X_train,y_train)"
   ]
  },
  {
   "cell_type": "code",
   "execution_count": 77,
   "id": "eee68a58",
   "metadata": {},
   "outputs": [
    {
     "data": {
      "text/plain": [
       "0.7023193982072222"
      ]
     },
     "execution_count": 77,
     "metadata": {},
     "output_type": "execute_result"
    }
   ],
   "source": [
    "model.score(X_test,y_test)"
   ]
  },
  {
   "cell_type": "code",
   "execution_count": 78,
   "id": "abc9288f",
   "metadata": {},
   "outputs": [
    {
     "data": {
      "text/plain": [
       "array([277050., 259040., 307730., 277020., 295750.,      0.,      0.,\n",
       "       279030., 280180., 269550.])"
      ]
     },
     "execution_count": 78,
     "metadata": {},
     "output_type": "execute_result"
    }
   ],
   "source": [
    "# Making predictions\n",
    "y_preds = model.predict(X_test)\n",
    "y_preds[:10]"
   ]
  },
  {
   "cell_type": "markdown",
   "id": "b966dc41",
   "metadata": {},
   "source": [
    "### Evaluating the model"
   ]
  },
  {
   "cell_type": "code",
   "execution_count": 79,
   "id": "0813b8da",
   "metadata": {},
   "outputs": [],
   "source": [
    "# Importing evaluation metrics to evaluate the regresson model\n",
    "from sklearn.metrics import mean_squared_log_error,mean_absolute_error,r2_score"
   ]
  },
  {
   "cell_type": "code",
   "execution_count": 80,
   "id": "61caff3d",
   "metadata": {},
   "outputs": [],
   "source": [
    "# Building a function to evaluate the root mean squared log error\n",
    "def rmsle(y_test,y_preds):\n",
    "    \"\"\"\n",
    "    Calculates root mean squared log error between predicted and label\n",
    "    \"\"\"\n",
    "    return np.sqrt(mean_squared_log_error(y_test,y_preds))\n",
    "\n"
   ]
  },
  {
   "cell_type": "code",
   "execution_count": 81,
   "id": "3d3f4edd",
   "metadata": {},
   "outputs": [],
   "source": [
    "#Creating a dictionary of the evaluation metrics\n",
    "scores = {\"MAE\":mean_squared_log_error(y_test,y_preds),\n",
    "          \"RSMLE\":rmsle(y_test,y_preds),\n",
    "          \"R^2\":r2_score(y_test,y_preds)\n",
    "         }"
   ]
  },
  {
   "cell_type": "code",
   "execution_count": 82,
   "id": "a890a8f7",
   "metadata": {},
   "outputs": [
    {
     "data": {
      "text/plain": [
       "{'MAE': 0.050423628337018515,\n",
       " 'RSMLE': 0.2245520615292109,\n",
       " 'R^2': 0.7023193982072222}"
      ]
     },
     "execution_count": 82,
     "metadata": {},
     "output_type": "execute_result"
    }
   ],
   "source": [
    "scores"
   ]
  },
  {
   "cell_type": "markdown",
   "id": "51445cb9",
   "metadata": {},
   "source": [
    "### Feature Importance"
   ]
  },
  {
   "cell_type": "code",
   "execution_count": 83,
   "id": "9fe89405",
   "metadata": {},
   "outputs": [
    {
     "data": {
      "text/plain": [
       "array([0.00329442, 0.06646063, 0.00214394, 0.05406741, 0.00122408,\n",
       "       0.00570723, 0.01608338, 0.00522068, 0.00494114, 0.04107328,\n",
       "       0.00108706, 0.03017805, 0.76851871])"
      ]
     },
     "execution_count": 83,
     "metadata": {},
     "output_type": "execute_result"
    }
   ],
   "source": [
    "model.feature_importances_"
   ]
  },
  {
   "cell_type": "code",
   "execution_count": 84,
   "id": "401b097c",
   "metadata": {},
   "outputs": [],
   "source": [
    "# Plotting the Features Importance\n",
    "feature_reg_df = pd.DataFrame({\"Values\":model.feature_importances_},\n",
    "                         index = X_train.columns)"
   ]
  },
  {
   "cell_type": "code",
   "execution_count": 85,
   "id": "0e32e087",
   "metadata": {},
   "outputs": [],
   "source": [
    "feature_reg_df.sort_values(\"Values\",inplace = True)"
   ]
  },
  {
   "cell_type": "code",
   "execution_count": 86,
   "id": "adda7a9b",
   "metadata": {},
   "outputs": [
    {
     "data": {
      "image/png": "[encoded data removed]",
      "text/plain": [
       "<Figure size 432x288 with 1 Axes>"
      ]
     },
     "metadata": {},
     "output_type": "display_data"
    }
   ],
   "source": [
    "feature_reg_df.plot(kind = \"barh\",title = \"Feature Importance\",legend = False);\n"
   ]
  },
  {
   "cell_type": "code",
   "execution_count": 87,
   "id": "b79b6bda",
   "metadata": {},
   "outputs": [
    {
     "data": {
      "text/html": [
       "<div>\n",
       "<style scoped>\n",
       "    .dataframe tbody tr th:only-of-type {\n",
       "        vertical-align: middle;\n",
       "    }\n",
       "\n",
       "    .dataframe tbody tr th {\n",
       "        vertical-align: top;\n",
       "    }\n",
       "\n",
       "    .dataframe thead th {\n",
       "        text-align: right;\n",
       "    }\n",
       "</style>\n",
       "<table border=\"1\" class=\"dataframe\">\n",
       "  <thead>\n",
       "    <tr style=\"text-align: right;\">\n",
       "      <th></th>\n",
       "      <th>gender</th>\n",
       "      <th>ssc_p</th>\n",
       "      <th>ssc_b</th>\n",
       "      <th>hsc_p</th>\n",
       "      <th>hsc_b</th>\n",
       "      <th>hsc_s</th>\n",
       "      <th>degree_p</th>\n",
       "      <th>degree_t</th>\n",
       "      <th>workex</th>\n",
       "      <th>etest_p</th>\n",
       "      <th>specialisation</th>\n",
       "      <th>mba_p</th>\n",
       "      <th>status</th>\n",
       "    </tr>\n",
       "  </thead>\n",
       "  <tbody>\n",
       "    <tr>\n",
       "      <th>93</th>\n",
       "      <td>1</td>\n",
       "      <td>52.0</td>\n",
       "      <td>0</td>\n",
       "      <td>62.0</td>\n",
       "      <td>0</td>\n",
       "      <td>1</td>\n",
       "      <td>54.0</td>\n",
       "      <td>0</td>\n",
       "      <td>0</td>\n",
       "      <td>72.00</td>\n",
       "      <td>1</td>\n",
       "      <td>55.41</td>\n",
       "      <td>0</td>\n",
       "    </tr>\n",
       "    <tr>\n",
       "      <th>84</th>\n",
       "      <td>1</td>\n",
       "      <td>70.0</td>\n",
       "      <td>0</td>\n",
       "      <td>63.0</td>\n",
       "      <td>1</td>\n",
       "      <td>2</td>\n",
       "      <td>70.0</td>\n",
       "      <td>2</td>\n",
       "      <td>1</td>\n",
       "      <td>55.00</td>\n",
       "      <td>0</td>\n",
       "      <td>62.00</td>\n",
       "      <td>1</td>\n",
       "    </tr>\n",
       "    <tr>\n",
       "      <th>95</th>\n",
       "      <td>1</td>\n",
       "      <td>73.0</td>\n",
       "      <td>0</td>\n",
       "      <td>78.0</td>\n",
       "      <td>1</td>\n",
       "      <td>1</td>\n",
       "      <td>65.0</td>\n",
       "      <td>0</td>\n",
       "      <td>1</td>\n",
       "      <td>95.46</td>\n",
       "      <td>0</td>\n",
       "      <td>62.16</td>\n",
       "      <td>1</td>\n",
       "    </tr>\n",
       "    <tr>\n",
       "      <th>137</th>\n",
       "      <td>1</td>\n",
       "      <td>67.0</td>\n",
       "      <td>1</td>\n",
       "      <td>63.0</td>\n",
       "      <td>0</td>\n",
       "      <td>1</td>\n",
       "      <td>72.0</td>\n",
       "      <td>0</td>\n",
       "      <td>0</td>\n",
       "      <td>56.00</td>\n",
       "      <td>1</td>\n",
       "      <td>60.41</td>\n",
       "      <td>1</td>\n",
       "    </tr>\n",
       "    <tr>\n",
       "      <th>210</th>\n",
       "      <td>1</td>\n",
       "      <td>80.6</td>\n",
       "      <td>1</td>\n",
       "      <td>82.0</td>\n",
       "      <td>1</td>\n",
       "      <td>1</td>\n",
       "      <td>77.6</td>\n",
       "      <td>0</td>\n",
       "      <td>0</td>\n",
       "      <td>91.00</td>\n",
       "      <td>0</td>\n",
       "      <td>74.49</td>\n",
       "      <td>1</td>\n",
       "    </tr>\n",
       "  </tbody>\n",
       "</table>\n",
       "</div>"
      ],
      "text/plain": [
       "     gender  ssc_p  ssc_b  hsc_p  hsc_b  hsc_s  degree_p  degree_t  workex  \\\n",
       "93        1   52.0      0   62.0      0      1      54.0         0       0   \n",
       "84        1   70.0      0   63.0      1      2      70.0         2       1   \n",
       "95        1   73.0      0   78.0      1      1      65.0         0       1   \n",
       "137       1   67.0      1   63.0      0      1      72.0         0       0   \n",
       "210       1   80.6      1   82.0      1      1      77.6         0       0   \n",
       "\n",
       "     etest_p  specialisation  mba_p  status  \n",
       "93     72.00               1  55.41       0  \n",
       "84     55.00               0  62.00       1  \n",
       "95     95.46               0  62.16       1  \n",
       "137    56.00               1  60.41       1  \n",
       "210    91.00               0  74.49       1  "
      ]
     },
     "execution_count": 87,
     "metadata": {},
     "output_type": "execute_result"
    }
   ],
   "source": [
    "X_train.head()"
   ]
  },
  {
   "cell_type": "code",
   "execution_count": 88,
   "id": "2784f8e8",
   "metadata": {},
   "outputs": [],
   "source": [
    "# Saving the model\n",
    "# pickle.dump(model,open(\"Salary_prediction.pkl\",'wb'))"
   ]
  },
  {
   "cell_type": "code",
   "execution_count": 89,
   "id": "beb2a99a",
   "metadata": {},
   "outputs": [
    {
     "data": {
      "text/html": [
       "<div>\n",
       "<style scoped>\n",
       "    .dataframe tbody tr th:only-of-type {\n",
       "        vertical-align: middle;\n",
       "    }\n",
       "\n",
       "    .dataframe tbody tr th {\n",
       "        vertical-align: top;\n",
       "    }\n",
       "\n",
       "    .dataframe thead th {\n",
       "        text-align: right;\n",
       "    }\n",
       "</style>\n",
       "<table border=\"1\" class=\"dataframe\">\n",
       "  <thead>\n",
       "    <tr style=\"text-align: right;\">\n",
       "      <th></th>\n",
       "      <th>gender</th>\n",
       "      <th>ssc_p</th>\n",
       "      <th>ssc_b</th>\n",
       "      <th>hsc_p</th>\n",
       "      <th>hsc_b</th>\n",
       "      <th>hsc_s</th>\n",
       "      <th>degree_p</th>\n",
       "      <th>degree_t</th>\n",
       "      <th>workex</th>\n",
       "      <th>etest_p</th>\n",
       "      <th>specialisation</th>\n",
       "      <th>mba_p</th>\n",
       "      <th>status</th>\n",
       "    </tr>\n",
       "  </thead>\n",
       "  <tbody>\n",
       "    <tr>\n",
       "      <th>200</th>\n",
       "      <td>1</td>\n",
       "      <td>69.0</td>\n",
       "      <td>1</td>\n",
       "      <td>60.0</td>\n",
       "      <td>1</td>\n",
       "      <td>1</td>\n",
       "      <td>65.0</td>\n",
       "      <td>0</td>\n",
       "      <td>0</td>\n",
       "      <td>87.55</td>\n",
       "      <td>0</td>\n",
       "      <td>52.81</td>\n",
       "      <td>1</td>\n",
       "    </tr>\n",
       "    <tr>\n",
       "      <th>212</th>\n",
       "      <td>1</td>\n",
       "      <td>67.0</td>\n",
       "      <td>1</td>\n",
       "      <td>67.0</td>\n",
       "      <td>1</td>\n",
       "      <td>1</td>\n",
       "      <td>73.0</td>\n",
       "      <td>0</td>\n",
       "      <td>1</td>\n",
       "      <td>59.00</td>\n",
       "      <td>0</td>\n",
       "      <td>69.72</td>\n",
       "      <td>1</td>\n",
       "    </tr>\n",
       "    <tr>\n",
       "      <th>138</th>\n",
       "      <td>0</td>\n",
       "      <td>82.0</td>\n",
       "      <td>1</td>\n",
       "      <td>64.0</td>\n",
       "      <td>1</td>\n",
       "      <td>2</td>\n",
       "      <td>73.0</td>\n",
       "      <td>2</td>\n",
       "      <td>1</td>\n",
       "      <td>96.00</td>\n",
       "      <td>0</td>\n",
       "      <td>71.77</td>\n",
       "      <td>1</td>\n",
       "    </tr>\n",
       "    <tr>\n",
       "      <th>176</th>\n",
       "      <td>0</td>\n",
       "      <td>59.0</td>\n",
       "      <td>0</td>\n",
       "      <td>60.0</td>\n",
       "      <td>1</td>\n",
       "      <td>1</td>\n",
       "      <td>56.0</td>\n",
       "      <td>0</td>\n",
       "      <td>0</td>\n",
       "      <td>55.00</td>\n",
       "      <td>1</td>\n",
       "      <td>57.90</td>\n",
       "      <td>1</td>\n",
       "    </tr>\n",
       "    <tr>\n",
       "      <th>15</th>\n",
       "      <td>0</td>\n",
       "      <td>65.0</td>\n",
       "      <td>0</td>\n",
       "      <td>75.0</td>\n",
       "      <td>0</td>\n",
       "      <td>1</td>\n",
       "      <td>69.0</td>\n",
       "      <td>0</td>\n",
       "      <td>1</td>\n",
       "      <td>72.00</td>\n",
       "      <td>0</td>\n",
       "      <td>64.66</td>\n",
       "      <td>1</td>\n",
       "    </tr>\n",
       "  </tbody>\n",
       "</table>\n",
       "</div>"
      ],
      "text/plain": [
       "     gender  ssc_p  ssc_b  hsc_p  hsc_b  hsc_s  degree_p  degree_t  workex  \\\n",
       "200       1   69.0      1   60.0      1      1      65.0         0       0   \n",
       "212       1   67.0      1   67.0      1      1      73.0         0       1   \n",
       "138       0   82.0      1   64.0      1      2      73.0         2       1   \n",
       "176       0   59.0      0   60.0      1      1      56.0         0       0   \n",
       "15        0   65.0      0   75.0      0      1      69.0         0       1   \n",
       "\n",
       "     etest_p  specialisation  mba_p  status  \n",
       "200    87.55               0  52.81       1  \n",
       "212    59.00               0  69.72       1  \n",
       "138    96.00               0  71.77       1  \n",
       "176    55.00               1  57.90       1  \n",
       "15     72.00               0  64.66       1  "
      ]
     },
     "execution_count": 89,
     "metadata": {},
     "output_type": "execute_result"
    }
   ],
   "source": [
    "X_test.head()"
   ]
  },
  {
   "cell_type": "code",
   "execution_count": 90,
   "id": "84a543e6",
   "metadata": {},
   "outputs": [
    {
     "data": {
      "text/plain": [
       "0.7023193982072222"
      ]
     },
     "execution_count": 90,
     "metadata": {},
     "output_type": "execute_result"
    }
   ],
   "source": [
    "# Load the model and evalaute\n",
    "loaded_model = pickle.load(open(\"C:/Users/Hp/Desktop/ml-project/Placement_Flask_App/Salary_prediction.pkl\",'rb'))\n",
    "loaded_model.score(X_test,y_test)"
   ]
  },
  {
   "cell_type": "code",
   "execution_count": null,
   "id": "343f7886",
   "metadata": {},
   "outputs": [],
   "source": []
  }
 ],
 "metadata": {
  "kernelspec": {
   "display_name": "Python 3 (ipykernel)",
   "language": "python",
   "name": "python3"
  },
  "language_info": {
   "codemirror_mode": {
    "name": "ipython",
    "version": 3
   },
   "file_extension": ".py",
   "mimetype": "text/x-python",
   "name": "python",
   "nbconvert_exporter": "python",
   "pygments_lexer": "ipython3",
   "version": "3.9.12"
  }
 },
 "nbformat": 4,
 "nbformat_minor": 5
}
